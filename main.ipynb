{
 "cells": [
  {
   "cell_type": "code",
   "execution_count": 1,
   "id": "1b7839e5",
   "metadata": {},
   "outputs": [
    {
     "name": "stdout",
     "output_type": "stream",
     "text": [
      "Requirement already satisfied: tf-keras in c:\\users\\kaosa\\appdata\\local\\packages\\pythonsoftwarefoundation.python.3.11_qbz5n2kfra8p0\\localcache\\local-packages\\python311\\site-packages (2.20.1)\n",
      "Requirement already satisfied: tensorflow<2.21,>=2.20 in c:\\users\\kaosa\\appdata\\local\\packages\\pythonsoftwarefoundation.python.3.11_qbz5n2kfra8p0\\localcache\\local-packages\\python311\\site-packages (from tf-keras) (2.20.0)\n",
      "Requirement already satisfied: absl-py>=1.0.0 in c:\\users\\kaosa\\appdata\\local\\packages\\pythonsoftwarefoundation.python.3.11_qbz5n2kfra8p0\\localcache\\local-packages\\python311\\site-packages (from tensorflow<2.21,>=2.20->tf-keras) (2.3.1)\n",
      "Requirement already satisfied: astunparse>=1.6.0 in c:\\users\\kaosa\\appdata\\local\\packages\\pythonsoftwarefoundation.python.3.11_qbz5n2kfra8p0\\localcache\\local-packages\\python311\\site-packages (from tensorflow<2.21,>=2.20->tf-keras) (1.6.3)\n",
      "Requirement already satisfied: flatbuffers>=24.3.25 in c:\\users\\kaosa\\appdata\\local\\packages\\pythonsoftwarefoundation.python.3.11_qbz5n2kfra8p0\\localcache\\local-packages\\python311\\site-packages (from tensorflow<2.21,>=2.20->tf-keras) (25.2.10)\n",
      "Requirement already satisfied: gast!=0.5.0,!=0.5.1,!=0.5.2,>=0.2.1 in c:\\users\\kaosa\\appdata\\local\\packages\\pythonsoftwarefoundation.python.3.11_qbz5n2kfra8p0\\localcache\\local-packages\\python311\\site-packages (from tensorflow<2.21,>=2.20->tf-keras) (0.6.0)\n",
      "Requirement already satisfied: google_pasta>=0.1.1 in c:\\users\\kaosa\\appdata\\local\\packages\\pythonsoftwarefoundation.python.3.11_qbz5n2kfra8p0\\localcache\\local-packages\\python311\\site-packages (from tensorflow<2.21,>=2.20->tf-keras) (0.2.0)\n",
      "Requirement already satisfied: libclang>=13.0.0 in c:\\users\\kaosa\\appdata\\local\\packages\\pythonsoftwarefoundation.python.3.11_qbz5n2kfra8p0\\localcache\\local-packages\\python311\\site-packages (from tensorflow<2.21,>=2.20->tf-keras) (18.1.1)\n",
      "Requirement already satisfied: opt_einsum>=2.3.2 in c:\\users\\kaosa\\appdata\\local\\packages\\pythonsoftwarefoundation.python.3.11_qbz5n2kfra8p0\\localcache\\local-packages\\python311\\site-packages (from tensorflow<2.21,>=2.20->tf-keras) (3.4.0)\n",
      "Requirement already satisfied: packaging in c:\\users\\kaosa\\appdata\\local\\packages\\pythonsoftwarefoundation.python.3.11_qbz5n2kfra8p0\\localcache\\local-packages\\python311\\site-packages (from tensorflow<2.21,>=2.20->tf-keras) (25.0)\n",
      "Requirement already satisfied: protobuf>=5.28.0 in c:\\users\\kaosa\\appdata\\local\\packages\\pythonsoftwarefoundation.python.3.11_qbz5n2kfra8p0\\localcache\\local-packages\\python311\\site-packages (from tensorflow<2.21,>=2.20->tf-keras) (5.29.5)\n",
      "Requirement already satisfied: requests<3,>=2.21.0 in c:\\users\\kaosa\\appdata\\local\\packages\\pythonsoftwarefoundation.python.3.11_qbz5n2kfra8p0\\localcache\\local-packages\\python311\\site-packages (from tensorflow<2.21,>=2.20->tf-keras) (2.32.4)\n",
      "Requirement already satisfied: setuptools in c:\\program files\\windowsapps\\pythonsoftwarefoundation.python.3.11_3.11.2544.0_x64__qbz5n2kfra8p0\\lib\\site-packages (from tensorflow<2.21,>=2.20->tf-keras) (65.5.0)\n",
      "Requirement already satisfied: six>=1.12.0 in c:\\users\\kaosa\\appdata\\local\\packages\\pythonsoftwarefoundation.python.3.11_qbz5n2kfra8p0\\localcache\\local-packages\\python311\\site-packages (from tensorflow<2.21,>=2.20->tf-keras) (1.17.0)\n",
      "Requirement already satisfied: termcolor>=1.1.0 in c:\\users\\kaosa\\appdata\\local\\packages\\pythonsoftwarefoundation.python.3.11_qbz5n2kfra8p0\\localcache\\local-packages\\python311\\site-packages (from tensorflow<2.21,>=2.20->tf-keras) (3.1.0)\n",
      "Requirement already satisfied: typing_extensions>=3.6.6 in c:\\users\\kaosa\\appdata\\local\\packages\\pythonsoftwarefoundation.python.3.11_qbz5n2kfra8p0\\localcache\\local-packages\\python311\\site-packages (from tensorflow<2.21,>=2.20->tf-keras) (4.14.1)\n",
      "Requirement already satisfied: wrapt>=1.11.0 in c:\\users\\kaosa\\appdata\\local\\packages\\pythonsoftwarefoundation.python.3.11_qbz5n2kfra8p0\\localcache\\local-packages\\python311\\site-packages (from tensorflow<2.21,>=2.20->tf-keras) (1.17.2)\n",
      "Requirement already satisfied: grpcio<2.0,>=1.24.3 in c:\\users\\kaosa\\appdata\\local\\packages\\pythonsoftwarefoundation.python.3.11_qbz5n2kfra8p0\\localcache\\local-packages\\python311\\site-packages (from tensorflow<2.21,>=2.20->tf-keras) (1.73.1)\n",
      "Requirement already satisfied: tensorboard~=2.20.0 in c:\\users\\kaosa\\appdata\\local\\packages\\pythonsoftwarefoundation.python.3.11_qbz5n2kfra8p0\\localcache\\local-packages\\python311\\site-packages (from tensorflow<2.21,>=2.20->tf-keras) (2.20.0)\n",
      "Requirement already satisfied: keras>=3.10.0 in c:\\users\\kaosa\\appdata\\local\\packages\\pythonsoftwarefoundation.python.3.11_qbz5n2kfra8p0\\localcache\\local-packages\\python311\\site-packages (from tensorflow<2.21,>=2.20->tf-keras) (3.10.0)\n",
      "Requirement already satisfied: numpy>=1.26.0 in c:\\users\\kaosa\\appdata\\local\\packages\\pythonsoftwarefoundation.python.3.11_qbz5n2kfra8p0\\localcache\\local-packages\\python311\\site-packages (from tensorflow<2.21,>=2.20->tf-keras) (2.1.3)\n",
      "Requirement already satisfied: h5py>=3.11.0 in c:\\users\\kaosa\\appdata\\local\\packages\\pythonsoftwarefoundation.python.3.11_qbz5n2kfra8p0\\localcache\\local-packages\\python311\\site-packages (from tensorflow<2.21,>=2.20->tf-keras) (3.14.0)\n",
      "Requirement already satisfied: ml_dtypes<1.0.0,>=0.5.1 in c:\\users\\kaosa\\appdata\\local\\packages\\pythonsoftwarefoundation.python.3.11_qbz5n2kfra8p0\\localcache\\local-packages\\python311\\site-packages (from tensorflow<2.21,>=2.20->tf-keras) (0.5.1)\n",
      "Requirement already satisfied: charset_normalizer<4,>=2 in c:\\users\\kaosa\\appdata\\local\\packages\\pythonsoftwarefoundation.python.3.11_qbz5n2kfra8p0\\localcache\\local-packages\\python311\\site-packages (from requests<3,>=2.21.0->tensorflow<2.21,>=2.20->tf-keras) (3.4.2)\n",
      "Requirement already satisfied: idna<4,>=2.5 in c:\\users\\kaosa\\appdata\\local\\packages\\pythonsoftwarefoundation.python.3.11_qbz5n2kfra8p0\\localcache\\local-packages\\python311\\site-packages (from requests<3,>=2.21.0->tensorflow<2.21,>=2.20->tf-keras) (3.10)\n",
      "Requirement already satisfied: urllib3<3,>=1.21.1 in c:\\users\\kaosa\\appdata\\local\\packages\\pythonsoftwarefoundation.python.3.11_qbz5n2kfra8p0\\localcache\\local-packages\\python311\\site-packages (from requests<3,>=2.21.0->tensorflow<2.21,>=2.20->tf-keras) (2.5.0)\n",
      "Requirement already satisfied: certifi>=2017.4.17 in c:\\users\\kaosa\\appdata\\local\\packages\\pythonsoftwarefoundation.python.3.11_qbz5n2kfra8p0\\localcache\\local-packages\\python311\\site-packages (from requests<3,>=2.21.0->tensorflow<2.21,>=2.20->tf-keras) (2025.7.14)\n",
      "Requirement already satisfied: markdown>=2.6.8 in c:\\users\\kaosa\\appdata\\local\\packages\\pythonsoftwarefoundation.python.3.11_qbz5n2kfra8p0\\localcache\\local-packages\\python311\\site-packages (from tensorboard~=2.20.0->tensorflow<2.21,>=2.20->tf-keras) (3.8.2)\n",
      "Requirement already satisfied: pillow in c:\\users\\kaosa\\appdata\\local\\packages\\pythonsoftwarefoundation.python.3.11_qbz5n2kfra8p0\\localcache\\local-packages\\python311\\site-packages (from tensorboard~=2.20.0->tensorflow<2.21,>=2.20->tf-keras) (11.3.0)\n",
      "Requirement already satisfied: tensorboard-data-server<0.8.0,>=0.7.0 in c:\\users\\kaosa\\appdata\\local\\packages\\pythonsoftwarefoundation.python.3.11_qbz5n2kfra8p0\\localcache\\local-packages\\python311\\site-packages (from tensorboard~=2.20.0->tensorflow<2.21,>=2.20->tf-keras) (0.7.2)\n",
      "Requirement already satisfied: werkzeug>=1.0.1 in c:\\users\\kaosa\\appdata\\local\\packages\\pythonsoftwarefoundation.python.3.11_qbz5n2kfra8p0\\localcache\\local-packages\\python311\\site-packages (from tensorboard~=2.20.0->tensorflow<2.21,>=2.20->tf-keras) (3.1.3)\n",
      "Requirement already satisfied: wheel<1.0,>=0.23.0 in c:\\users\\kaosa\\appdata\\local\\packages\\pythonsoftwarefoundation.python.3.11_qbz5n2kfra8p0\\localcache\\local-packages\\python311\\site-packages (from astunparse>=1.6.0->tensorflow<2.21,>=2.20->tf-keras) (0.45.1)\n",
      "Requirement already satisfied: rich in c:\\users\\kaosa\\appdata\\local\\packages\\pythonsoftwarefoundation.python.3.11_qbz5n2kfra8p0\\localcache\\local-packages\\python311\\site-packages (from keras>=3.10.0->tensorflow<2.21,>=2.20->tf-keras) (14.0.0)\n",
      "Requirement already satisfied: namex in c:\\users\\kaosa\\appdata\\local\\packages\\pythonsoftwarefoundation.python.3.11_qbz5n2kfra8p0\\localcache\\local-packages\\python311\\site-packages (from keras>=3.10.0->tensorflow<2.21,>=2.20->tf-keras) (0.1.0)\n",
      "Requirement already satisfied: optree in c:\\users\\kaosa\\appdata\\local\\packages\\pythonsoftwarefoundation.python.3.11_qbz5n2kfra8p0\\localcache\\local-packages\\python311\\site-packages (from keras>=3.10.0->tensorflow<2.21,>=2.20->tf-keras) (0.16.0)\n",
      "Requirement already satisfied: MarkupSafe>=2.1.1 in c:\\users\\kaosa\\appdata\\local\\packages\\pythonsoftwarefoundation.python.3.11_qbz5n2kfra8p0\\localcache\\local-packages\\python311\\site-packages (from werkzeug>=1.0.1->tensorboard~=2.20.0->tensorflow<2.21,>=2.20->tf-keras) (3.0.2)\n",
      "Requirement already satisfied: markdown-it-py>=2.2.0 in c:\\users\\kaosa\\appdata\\local\\packages\\pythonsoftwarefoundation.python.3.11_qbz5n2kfra8p0\\localcache\\local-packages\\python311\\site-packages (from rich->keras>=3.10.0->tensorflow<2.21,>=2.20->tf-keras) (3.0.0)\n",
      "Requirement already satisfied: pygments<3.0.0,>=2.13.0 in c:\\users\\kaosa\\appdata\\local\\packages\\pythonsoftwarefoundation.python.3.11_qbz5n2kfra8p0\\localcache\\local-packages\\python311\\site-packages (from rich->keras>=3.10.0->tensorflow<2.21,>=2.20->tf-keras) (2.19.2)\n",
      "Requirement already satisfied: mdurl~=0.1 in c:\\users\\kaosa\\appdata\\local\\packages\\pythonsoftwarefoundation.python.3.11_qbz5n2kfra8p0\\localcache\\local-packages\\python311\\site-packages (from markdown-it-py>=2.2.0->rich->keras>=3.10.0->tensorflow<2.21,>=2.20->tf-keras) (0.1.2)\n",
      "Note: you may need to restart the kernel to use updated packages.\n"
     ]
    }
   ],
   "source": [
    "pip install tf-keras\n"
   ]
  },
  {
   "cell_type": "markdown",
   "id": "2252784b",
   "metadata": {},
   "source": [
    "Imports and Configuration"
   ]
  },
  {
   "cell_type": "code",
   "execution_count": 2,
   "id": "e48a6fed",
   "metadata": {},
   "outputs": [
    {
     "name": "stderr",
     "output_type": "stream",
     "text": [
      "C:\\Users\\kaosa\\AppData\\Local\\Packages\\PythonSoftwareFoundation.Python.3.11_qbz5n2kfra8p0\\LocalCache\\local-packages\\Python311\\site-packages\\tqdm\\auto.py:21: TqdmWarning: IProgress not found. Please update jupyter and ipywidgets. See https://ipywidgets.readthedocs.io/en/stable/user_install.html\n",
      "  from .autonotebook import tqdm as notebook_tqdm\n"
     ]
    },
    {
     "name": "stdout",
     "output_type": "stream",
     "text": [
      "WARNING:tensorflow:From C:\\Users\\kaosa\\AppData\\Local\\Packages\\PythonSoftwareFoundation.Python.3.11_qbz5n2kfra8p0\\LocalCache\\local-packages\\Python311\\site-packages\\tf_keras\\src\\losses.py:2976: The name tf.losses.sparse_softmax_cross_entropy is deprecated. Please use tf.compat.v1.losses.sparse_softmax_cross_entropy instead.\n",
      "\n"
     ]
    },
    {
     "name": "stderr",
     "output_type": "stream",
     "text": [
      "2025-10-26 21:20:18.826 WARNING streamlit.runtime.scriptrunner_utils.script_run_context: Thread 'MainThread': missing ScriptRunContext! This warning can be ignored when running in bare mode.\n",
      "2025-10-26 21:20:18.826 WARNING streamlit.runtime.scriptrunner_utils.script_run_context: Thread 'MainThread': missing ScriptRunContext! This warning can be ignored when running in bare mode.\n",
      "2025-10-26 21:20:18.937 \n",
      "  \u001b[33m\u001b[1mWarning:\u001b[0m to view this Streamlit app on a browser, run it with the following\n",
      "  command:\n",
      "\n",
      "    streamlit run C:\\Users\\kaosa\\AppData\\Local\\Packages\\PythonSoftwareFoundation.Python.3.11_qbz5n2kfra8p0\\LocalCache\\local-packages\\Python311\\site-packages\\ipykernel_launcher.py [ARGUMENTS]\n",
      "2025-10-26 21:20:18.937 Thread 'MainThread': missing ScriptRunContext! This warning can be ignored when running in bare mode.\n",
      "2025-10-26 21:20:18.937 Thread 'MainThread': missing ScriptRunContext! This warning can be ignored when running in bare mode.\n"
     ]
    },
    {
     "data": {
      "text/plain": [
       "DeltaGenerator()"
      ]
     },
     "execution_count": 2,
     "metadata": {},
     "output_type": "execute_result"
    }
   ],
   "source": [
    "\n",
    "import os, json, time\n",
    "import numpy as np\n",
    "import pandas as pd\n",
    "import requests\n",
    "import streamlit as st\n",
    "from collections import Counter, defaultdict\n",
    "\n",
    "\n",
    "os.environ[\"TRANSFORMERS_NO_TF\"] = \"1\"\n",
    "os.environ[\"TRANSFORMERS_NO_FLAX\"] = \"1\"\n",
    "\n",
    "from sentence_transformers import SentenceTransformer\n",
    "from sklearn.metrics.pairwise import cosine_similarity\n",
    "\n",
    "\n",
    "st.set_page_config(page_title=\"Wesnoth PR Clustering\", layout=\"wide\")\n",
    "st.title(\"Patch Patterns: Clustering Similar Pull Requests\")\n"
   ]
  },
  {
   "cell_type": "markdown",
   "id": "47875100",
   "metadata": {},
   "source": [
    "Streamlit Configuration"
   ]
  },
  {
   "cell_type": "code",
   "execution_count": 3,
   "id": "63843dc6",
   "metadata": {},
   "outputs": [
    {
     "name": "stderr",
     "output_type": "stream",
     "text": [
      "2025-10-26 21:20:18.951 Thread 'MainThread': missing ScriptRunContext! This warning can be ignored when running in bare mode.\n",
      "2025-10-26 21:20:18.952 Thread 'MainThread': missing ScriptRunContext! This warning can be ignored when running in bare mode.\n",
      "2025-10-26 21:20:18.952 Thread 'MainThread': missing ScriptRunContext! This warning can be ignored when running in bare mode.\n",
      "2025-10-26 21:20:18.953 Thread 'MainThread': missing ScriptRunContext! This warning can be ignored when running in bare mode.\n"
     ]
    },
    {
     "data": {
      "text/plain": [
       "DeltaGenerator()"
      ]
     },
     "execution_count": 3,
     "metadata": {},
     "output_type": "execute_result"
    }
   ],
   "source": [
    "st.set_page_config(page_title=\"Wesnoth PR Clustering\", layout=\"wide\")\n",
    "st.title(\"Patch Patterns: Clustering Similar Pull Requests\")"
   ]
  },
  {
   "cell_type": "markdown",
   "id": "51f496dc",
   "metadata": {},
   "source": [
    "Read GitHub token from Streamlit Secrets"
   ]
  },
  {
   "cell_type": "code",
   "execution_count": 4,
   "id": "8c546139",
   "metadata": {},
   "outputs": [],
   "source": [
    "# --- Secrets ---\n",
    "GITHUB_TOKEN = st.secrets.get(\"GITHUB_TOKEN\", \"\")\n",
    "if not GITHUB_TOKEN:\n",
    "    st.info(\"ℹ️ Add a GitHub token in Streamlit → Settings → Secrets as `GITHUB_TOKEN`.\")\n"
   ]
  },
  {
   "cell_type": "markdown",
   "id": "d116b9ec",
   "metadata": {},
   "source": [
    "GitHub API helpers (cached)"
   ]
  },
  {
   "cell_type": "code",
   "execution_count": 5,
   "id": "a8771fb3",
   "metadata": {},
   "outputs": [
    {
     "name": "stderr",
     "output_type": "stream",
     "text": [
      "2025-10-26 21:20:19.388 No runtime found, using MemoryCacheStorageManager\n",
      "2025-10-26 21:20:19.392 No runtime found, using MemoryCacheStorageManager\n",
      "2025-10-26 21:20:19.393 No runtime found, using MemoryCacheStorageManager\n"
     ]
    }
   ],
   "source": [
    "# --- GitHub API helpers (cached) ---\n",
    "@st.cache_data(show_spinner=False)\n",
    "def gh_get(url: str, token: str, params: dict | None = None, accept: str | None = None):\n",
    "    headers = {\"Authorization\": f\"Bearer {token}\"} if token else {}\n",
    "    if accept: headers[\"Accept\"] = accept\n",
    "    r = requests.get(url, headers=headers, params=params, timeout=60)\n",
    "    if r.status_code == 403 and \"rate limit\" in r.text.lower():\n",
    "        reset = int(r.headers.get(\"X-RateLimit-Reset\", time.time()+60))\n",
    "        sleep_s = max(1, reset - int(time.time()) + 1)\n",
    "        time.sleep(sleep_s)\n",
    "        r = requests.get(url, headers=headers, params=params, timeout=60)\n",
    "    r.raise_for_status()\n",
    "    return r.json()\n",
    "\n",
    "@st.cache_data(show_spinner=True)\n",
    "def fetch_merged_prs(owner: str, repo: str, target: int, token: str):\n",
    "    GITHUB_API = \"https://api.github.com\"\n",
    "    prs, page, per_page = [], 1, 100\n",
    "    while len(prs) < target:\n",
    "        url = f\"{GITHUB_API}/repos/{owner}/{repo}/pulls\"\n",
    "        params = {\"state\": \"closed\", \"per_page\": per_page, \"page\": page, \"sort\": \"updated\", \"direction\": \"desc\"}\n",
    "        batch = gh_get(url, token, params=params)\n",
    "        if not batch: break\n",
    "        merged = [pr for pr in batch if pr.get(\"merged_at\")]\n",
    "        prs.extend(merged)\n",
    "        page += 1\n",
    "        if len(batch) < per_page: break\n",
    "    return prs[:target]\n",
    "\n",
    "@st.cache_data(show_spinner=True)\n",
    "def fetch_pr_details(owner: str, repo: str, numbers: list[int], token: str):\n",
    "    GITHUB_API = \"https://api.github.com\"\n",
    "    out = []\n",
    "    for n in numbers:\n",
    "        files = gh_get(f\"{GITHUB_API}/repos/{owner}/{repo}/pulls/{n}/files\", token)\n",
    "        commits = gh_get(f\"{GITHUB_API}/repos/{owner}/{repo}/pulls/{n}/commits\", token)\n",
    "        pr = gh_get(f\"{GITHUB_API}/repos/{owner}/{repo}/pulls/{n}\", token)\n",
    "        file_entries = [{\n",
    "            \"filename\": f.get(\"filename\"),\n",
    "            \"status\": f.get(\"status\"),\n",
    "            \"additions\": f.get(\"additions\"),\n",
    "            \"deletions\": f.get(\"deletions\"),\n",
    "            \"changes\":  f.get(\"changes\"),\n",
    "            \"patch\":    f.get(\"patch\"),\n",
    "        } for f in files]\n",
    "        commit_msgs = [c.get(\"commit\", {}).get(\"message\",\"\") for c in commits]\n",
    "        labels = [lab.get(\"name\") for lab in pr.get(\"labels\", [])]\n",
    "        out.append({\n",
    "            \"number\": pr.get(\"number\"),\n",
    "            \"title\": pr.get(\"title\"),\n",
    "            \"user\": pr.get(\"user\", {}).get(\"login\"),\n",
    "            \"state\": pr.get(\"state\"),\n",
    "            \"merged_at\": pr.get(\"merged_at\"),\n",
    "            \"created_at\": pr.get(\"created_at\"),\n",
    "            \"updated_at\": pr.get(\"updated_at\"),\n",
    "            \"labels\": labels,\n",
    "            \"body\": pr.get(\"body\"),\n",
    "            \"files\": file_entries,\n",
    "            \"commits_messages\": commit_msgs,\n",
    "            \"html_url\": pr.get(\"html_url\"),\n",
    "        })\n",
    "    return out\n"
   ]
  },
  {
   "cell_type": "markdown",
   "id": "cbe95fe0",
   "metadata": {},
   "source": [
    "Text building for embeddings"
   ]
  },
  {
   "cell_type": "code",
   "execution_count": 6,
   "id": "8cbf72d1",
   "metadata": {},
   "outputs": [],
   "source": [
    "# --- Text block builder ---\n",
    "def build_text_block(rec: dict) -> str:\n",
    "    title = rec.get(\"title\") or \"\"\n",
    "    body = rec.get(\"body\") or \"\"\n",
    "    commits = \"\\n\".join(rec.get(\"commits_messages\") or [])\n",
    "    files = rec.get(\"files\") or []\n",
    "    changed_paths = \" \".join([f.get(\"filename\",\"\") for f in files])\n",
    "    return f\"TITLE: {title}\\nBODY: {body}\\nCOMMITS:\\n{commits}\\nFILES: {changed_paths}\".strip()\n"
   ]
  },
  {
   "cell_type": "markdown",
   "id": "1b0c4155",
   "metadata": {},
   "source": [
    "Embedding model loading and encoding (cached)"
   ]
  },
  {
   "cell_type": "code",
   "execution_count": 7,
   "id": "f0aad5aa",
   "metadata": {},
   "outputs": [
    {
     "name": "stderr",
     "output_type": "stream",
     "text": [
      "2025-10-26 21:20:19.411 No runtime found, using MemoryCacheStorageManager\n"
     ]
    }
   ],
   "source": [
    "# --- Embedding (cached) ---\n",
    "@st.cache_resource(show_spinner=True)\n",
    "def load_embed_model(model_name: str):\n",
    "    return SentenceTransformer(model_name)\n",
    "\n",
    "@st.cache_data(show_spinner=True)\n",
    "def embed_records(data: list[dict], model_name: str):\n",
    "    texts = [build_text_block(r) for r in data]\n",
    "    model = load_embed_model(model_name)\n",
    "    emb = model.encode(texts, show_progress_bar=False, convert_to_numpy=True, normalize_embeddings=True)\n",
    "    index_rows = [{\n",
    "        \"number\": r.get(\"number\"),\n",
    "        \"title\": r.get(\"title\"),\n",
    "        \"labels\": \",\".join(r.get(\"labels\") or []),\n",
    "        \"url\": r.get(\"html_url\"),\n",
    "    } for r in data]\n",
    "    return emb, pd.DataFrame(index_rows), texts\n"
   ]
  },
  {
   "cell_type": "markdown",
   "id": "d86ddee3",
   "metadata": {},
   "source": [
    "Clustering via threshold graph → connected components"
   ]
  },
  {
   "cell_type": "code",
   "execution_count": 8,
   "id": "d4cd1468",
   "metadata": {},
   "outputs": [],
   "source": [
    "# --- Clustering ---\n",
    "def cluster_by_threshold(emb: np.ndarray, threshold: float):\n",
    "    sim = cosine_similarity(emb)\n",
    "    np.fill_diagonal(sim, 1.0)\n",
    "    n = sim.shape[0]\n",
    "\n",
    "    # Union-Find for connected components (faster than building NetworkX graph on large n)\n",
    "    parent = list(range(n))\n",
    "    rank = [0]*n\n",
    "    def find(x):\n",
    "        if parent[x]!=x: parent[x]=find(parent[x])\n",
    "        return parent[x]\n",
    "    def union(x,y):\n",
    "        rx,ry = find(x),find(y)\n",
    "        if rx==ry: return\n",
    "        if rank[rx]<rank[ry]: parent[rx]=ry\n",
    "        elif rank[rx]>rank[ry]: parent[ry]=rx\n",
    "        else: parent[ry]=rx; rank[rx]+=1\n",
    "\n",
    "    for i in range(n):\n",
    "        row = sim[i, i+1:]\n",
    "        js = np.where(row >= threshold)[0] + (i+1)\n",
    "        for j in js: union(i,j)\n",
    "\n",
    "    root_to_id, cid = {}, 0\n",
    "    cluster_ids = np.zeros(n, dtype=int) - 1\n",
    "    for i in range(n):\n",
    "        r = find(i)\n",
    "        if r not in root_to_id:\n",
    "            root_to_id[r] = cid\n",
    "            cid += 1\n",
    "        cluster_ids[i] = root_to_id[r]\n",
    "    return cluster_ids\n"
   ]
  },
  {
   "cell_type": "markdown",
   "id": "d90a98a0",
   "metadata": {},
   "source": [
    "Small utilities for preview and analysis"
   ]
  },
  {
   "cell_type": "code",
   "execution_count": 9,
   "id": "e88f5787",
   "metadata": {},
   "outputs": [],
   "source": [
    "# --- Utilities: preview + analysis ---\n",
    "def top_title_tokens(df_with_titles: pd.DataFrame, max_tokens=8):\n",
    "    import re\n",
    "    rows = []\n",
    "    grp = df_with_titles.groupby(\"cluster_id\")\n",
    "    for cid, g in grp:\n",
    "        toks = []\n",
    "        for t in g[\"title\"].fillna(\"\"):\n",
    "            toks += [w for w in re.findall(r\"[A-Za-z][A-Za-z0-9_+-]{2,}\", t.lower())\n",
    "                     if w not in {\"the\",\"and\",\"for\",\"with\",\"into\",\"from\",\"this\",\"that\",\"fix\",\"pr\"}]\n",
    "        common = \" \".join([w for w,_ in Counter(toks).most_common(max_tokens)])\n",
    "        rows.append({\"cluster_id\": cid, \"n_items\": len(g), \"top_title_tokens\": common})\n",
    "    return pd.DataFrame(rows).sort_values(\"n_items\", ascending=False)\n",
    "\n",
    "def explode_labels(s: str) -> list[str]:\n",
    "    if not isinstance(s, str) or not s.strip(): return []\n",
    "    return [x.strip() for x in s.split(\",\") if x.strip()]\n",
    "\n",
    "def path_counts_by_cluster(df_clusters: pd.DataFrame, num_to_record: dict[int, dict]):\n",
    "    counts = defaultdict(Counter)\n",
    "    for r in df_clusters.itertuples():\n",
    "        rec = num_to_record.get(int(r.number))\n",
    "        if not rec: continue\n",
    "        for f in (rec.get(\"files\") or []):\n",
    "            fn = (f.get(\"filename\") or \"\").strip()\n",
    "            if fn:\n",
    "                top = fn.split(\"/\")[0] if \"/\" in fn else fn\n",
    "                counts[r.cluster_id][top] += 1\n",
    "    rows = []\n",
    "    for cid, cnt in counts.items():\n",
    "        for p, n in cnt.most_common(8):\n",
    "            rows.append({\"cluster_id\": cid, \"path\": p, \"count\": n})\n",
    "    return pd.DataFrame(rows)\n"
   ]
  },
  {
   "cell_type": "markdown",
   "id": "c0b3823c",
   "metadata": {},
   "source": [
    "Sidebar controls (owner/repo/target/model/threshold + buttons)"
   ]
  },
  {
   "cell_type": "code",
   "execution_count": 10,
   "id": "b20b6716",
   "metadata": {},
   "outputs": [
    {
     "name": "stderr",
     "output_type": "stream",
     "text": [
      "2025-10-26 21:20:19.443 Thread 'MainThread': missing ScriptRunContext! This warning can be ignored when running in bare mode.\n",
      "2025-10-26 21:20:19.443 Thread 'MainThread': missing ScriptRunContext! This warning can be ignored when running in bare mode.\n",
      "2025-10-26 21:20:19.444 Thread 'MainThread': missing ScriptRunContext! This warning can be ignored when running in bare mode.\n",
      "2025-10-26 21:20:19.445 Thread 'MainThread': missing ScriptRunContext! This warning can be ignored when running in bare mode.\n",
      "2025-10-26 21:20:19.445 Thread 'MainThread': missing ScriptRunContext! This warning can be ignored when running in bare mode.\n",
      "2025-10-26 21:20:19.446 Thread 'MainThread': missing ScriptRunContext! This warning can be ignored when running in bare mode.\n",
      "2025-10-26 21:20:19.446 Thread 'MainThread': missing ScriptRunContext! This warning can be ignored when running in bare mode.\n",
      "2025-10-26 21:20:19.447 Session state does not function when running a script without `streamlit run`\n",
      "2025-10-26 21:20:19.447 Thread 'MainThread': missing ScriptRunContext! This warning can be ignored when running in bare mode.\n",
      "2025-10-26 21:20:19.448 Thread 'MainThread': missing ScriptRunContext! This warning can be ignored when running in bare mode.\n",
      "2025-10-26 21:20:19.448 Thread 'MainThread': missing ScriptRunContext! This warning can be ignored when running in bare mode.\n",
      "2025-10-26 21:20:19.449 Thread 'MainThread': missing ScriptRunContext! This warning can be ignored when running in bare mode.\n",
      "2025-10-26 21:20:19.449 Thread 'MainThread': missing ScriptRunContext! This warning can be ignored when running in bare mode.\n",
      "2025-10-26 21:20:19.449 Thread 'MainThread': missing ScriptRunContext! This warning can be ignored when running in bare mode.\n",
      "2025-10-26 21:20:19.450 Thread 'MainThread': missing ScriptRunContext! This warning can be ignored when running in bare mode.\n",
      "2025-10-26 21:20:19.451 Thread 'MainThread': missing ScriptRunContext! This warning can be ignored when running in bare mode.\n",
      "2025-10-26 21:20:19.451 Thread 'MainThread': missing ScriptRunContext! This warning can be ignored when running in bare mode.\n",
      "2025-10-26 21:20:19.451 Thread 'MainThread': missing ScriptRunContext! This warning can be ignored when running in bare mode.\n",
      "2025-10-26 21:20:19.451 Thread 'MainThread': missing ScriptRunContext! This warning can be ignored when running in bare mode.\n",
      "2025-10-26 21:20:19.451 Thread 'MainThread': missing ScriptRunContext! This warning can be ignored when running in bare mode.\n",
      "2025-10-26 21:20:19.451 Thread 'MainThread': missing ScriptRunContext! This warning can be ignored when running in bare mode.\n",
      "2025-10-26 21:20:19.451 Thread 'MainThread': missing ScriptRunContext! This warning can be ignored when running in bare mode.\n",
      "2025-10-26 21:20:19.451 Thread 'MainThread': missing ScriptRunContext! This warning can be ignored when running in bare mode.\n",
      "2025-10-26 21:20:19.451 Thread 'MainThread': missing ScriptRunContext! This warning can be ignored when running in bare mode.\n",
      "2025-10-26 21:20:19.451 Thread 'MainThread': missing ScriptRunContext! This warning can be ignored when running in bare mode.\n",
      "2025-10-26 21:20:19.451 Thread 'MainThread': missing ScriptRunContext! This warning can be ignored when running in bare mode.\n",
      "2025-10-26 21:20:19.451 Thread 'MainThread': missing ScriptRunContext! This warning can be ignored when running in bare mode.\n",
      "2025-10-26 21:20:19.451 Thread 'MainThread': missing ScriptRunContext! This warning can be ignored when running in bare mode.\n",
      "2025-10-26 21:20:19.451 Thread 'MainThread': missing ScriptRunContext! This warning can be ignored when running in bare mode.\n",
      "2025-10-26 21:20:19.457 Thread 'MainThread': missing ScriptRunContext! This warning can be ignored when running in bare mode.\n",
      "2025-10-26 21:20:19.457 Thread 'MainThread': missing ScriptRunContext! This warning can be ignored when running in bare mode.\n",
      "2025-10-26 21:20:19.457 Thread 'MainThread': missing ScriptRunContext! This warning can be ignored when running in bare mode.\n",
      "2025-10-26 21:20:19.458 Thread 'MainThread': missing ScriptRunContext! This warning can be ignored when running in bare mode.\n",
      "2025-10-26 21:20:19.458 Thread 'MainThread': missing ScriptRunContext! This warning can be ignored when running in bare mode.\n",
      "2025-10-26 21:20:19.459 Thread 'MainThread': missing ScriptRunContext! This warning can be ignored when running in bare mode.\n",
      "2025-10-26 21:20:19.459 Thread 'MainThread': missing ScriptRunContext! This warning can be ignored when running in bare mode.\n",
      "2025-10-26 21:20:19.459 Thread 'MainThread': missing ScriptRunContext! This warning can be ignored when running in bare mode.\n",
      "2025-10-26 21:20:19.459 Thread 'MainThread': missing ScriptRunContext! This warning can be ignored when running in bare mode.\n",
      "2025-10-26 21:20:19.459 Thread 'MainThread': missing ScriptRunContext! This warning can be ignored when running in bare mode.\n",
      "2025-10-26 21:20:19.459 Thread 'MainThread': missing ScriptRunContext! This warning can be ignored when running in bare mode.\n",
      "2025-10-26 21:20:19.459 Thread 'MainThread': missing ScriptRunContext! This warning can be ignored when running in bare mode.\n",
      "2025-10-26 21:20:19.459 Thread 'MainThread': missing ScriptRunContext! This warning can be ignored when running in bare mode.\n",
      "2025-10-26 21:20:19.459 Thread 'MainThread': missing ScriptRunContext! This warning can be ignored when running in bare mode.\n",
      "2025-10-26 21:20:19.459 Thread 'MainThread': missing ScriptRunContext! This warning can be ignored when running in bare mode.\n",
      "2025-10-26 21:20:19.464 Thread 'MainThread': missing ScriptRunContext! This warning can be ignored when running in bare mode.\n",
      "2025-10-26 21:20:19.464 Thread 'MainThread': missing ScriptRunContext! This warning can be ignored when running in bare mode.\n",
      "2025-10-26 21:20:19.465 Thread 'MainThread': missing ScriptRunContext! This warning can be ignored when running in bare mode.\n",
      "2025-10-26 21:20:19.465 Thread 'MainThread': missing ScriptRunContext! This warning can be ignored when running in bare mode.\n",
      "2025-10-26 21:20:19.465 Thread 'MainThread': missing ScriptRunContext! This warning can be ignored when running in bare mode.\n",
      "2025-10-26 21:20:19.465 Thread 'MainThread': missing ScriptRunContext! This warning can be ignored when running in bare mode.\n",
      "2025-10-26 21:20:19.465 Thread 'MainThread': missing ScriptRunContext! This warning can be ignored when running in bare mode.\n",
      "2025-10-26 21:20:19.467 Thread 'MainThread': missing ScriptRunContext! This warning can be ignored when running in bare mode.\n",
      "2025-10-26 21:20:19.467 Thread 'MainThread': missing ScriptRunContext! This warning can be ignored when running in bare mode.\n",
      "2025-10-26 21:20:19.467 Thread 'MainThread': missing ScriptRunContext! This warning can be ignored when running in bare mode.\n",
      "2025-10-26 21:20:19.467 Thread 'MainThread': missing ScriptRunContext! This warning can be ignored when running in bare mode.\n"
     ]
    }
   ],
   "source": [
    "# --- Sidebar controls ---\n",
    "st.sidebar.header(\"Settings\")\n",
    "owner = st.sidebar.text_input(\"GitHub Owner\", value=\"wesnoth\")\n",
    "repo = st.sidebar.text_input(\"GitHub Repo\", value=\"wesnoth\")\n",
    "target = st.sidebar.slider(\"Merged PRs to fetch\", min_value=100, max_value=600, value=400, step=50)\n",
    "model_name = st.sidebar.text_input(\"Embedding model\", value=\"sentence-transformers/all-MiniLM-L6-v2\")\n",
    "threshold = st.sidebar.slider(\"Clustering threshold\", min_value=0.70, max_value=0.98, value=0.92, step=0.01)\n",
    "\n",
    "fetch_btn = st.sidebar.button(\"1) Fetch PRs\")\n",
    "embed_btn = st.sidebar.button(\"2) Embed\")\n",
    "cluster_btn = st.sidebar.button(\"3) Cluster & Analyze\")\n"
   ]
  },
  {
   "cell_type": "markdown",
   "id": "5c8899e7",
   "metadata": {},
   "source": [
    "Session state"
   ]
  },
  {
   "cell_type": "code",
   "execution_count": 11,
   "id": "68c47c07",
   "metadata": {},
   "outputs": [
    {
     "name": "stderr",
     "output_type": "stream",
     "text": [
      "2025-10-26 21:20:19.475 Thread 'MainThread': missing ScriptRunContext! This warning can be ignored when running in bare mode.\n",
      "2025-10-26 21:20:19.476 Thread 'MainThread': missing ScriptRunContext! This warning can be ignored when running in bare mode.\n",
      "2025-10-26 21:20:19.476 Thread 'MainThread': missing ScriptRunContext! This warning can be ignored when running in bare mode.\n",
      "2025-10-26 21:20:19.477 Thread 'MainThread': missing ScriptRunContext! This warning can be ignored when running in bare mode.\n",
      "2025-10-26 21:20:19.477 Thread 'MainThread': missing ScriptRunContext! This warning can be ignored when running in bare mode.\n",
      "2025-10-26 21:20:19.478 Thread 'MainThread': missing ScriptRunContext! This warning can be ignored when running in bare mode.\n",
      "2025-10-26 21:20:19.478 Thread 'MainThread': missing ScriptRunContext! This warning can be ignored when running in bare mode.\n",
      "2025-10-26 21:20:19.479 Thread 'MainThread': missing ScriptRunContext! This warning can be ignored when running in bare mode.\n",
      "2025-10-26 21:20:19.479 Thread 'MainThread': missing ScriptRunContext! This warning can be ignored when running in bare mode.\n",
      "2025-10-26 21:20:19.480 Thread 'MainThread': missing ScriptRunContext! This warning can be ignored when running in bare mode.\n",
      "2025-10-26 21:20:19.480 Thread 'MainThread': missing ScriptRunContext! This warning can be ignored when running in bare mode.\n",
      "2025-10-26 21:20:19.480 Thread 'MainThread': missing ScriptRunContext! This warning can be ignored when running in bare mode.\n",
      "2025-10-26 21:20:19.481 Thread 'MainThread': missing ScriptRunContext! This warning can be ignored when running in bare mode.\n",
      "2025-10-26 21:20:19.481 Thread 'MainThread': missing ScriptRunContext! This warning can be ignored when running in bare mode.\n",
      "2025-10-26 21:20:19.481 Thread 'MainThread': missing ScriptRunContext! This warning can be ignored when running in bare mode.\n"
     ]
    }
   ],
   "source": [
    "# --- Session state store ---\n",
    "if \"raw_rows\" not in st.session_state: st.session_state.raw_rows = None\n",
    "if \"index_df\" not in st.session_state: st.session_state.index_df = None\n",
    "if \"emb\" not in st.session_state: st.session_state.emb = None\n",
    "if \"cluster_df\" not in st.session_state: st.session_state.cluster_df = None\n",
    "if \"text_blocks\" not in st.session_state: st.session_state.text_blocks = None\n"
   ]
  },
  {
   "cell_type": "markdown",
   "id": "903aa9a9",
   "metadata": {},
   "source": [
    "Button actions (fetch → embed → cluster & analyze)"
   ]
  },
  {
   "cell_type": "code",
   "execution_count": 12,
   "id": "cd5d05aa",
   "metadata": {},
   "outputs": [],
   "source": [
    "# --- Actions ---\n",
    "if fetch_btn:\n",
    "    if not GITHUB_TOKEN:\n",
    "        st.error(\"Please add `GITHUB_TOKEN` in your Streamlit app secrets.\")\n",
    "    else:\n",
    "        st.info(\"Fetching merged PRs…\")\n",
    "        merged = fetch_merged_prs(owner, repo, target, GITHUB_TOKEN)\n",
    "        numbers = [m[\"number\"] for m in merged]\n",
    "        rows = fetch_pr_details(owner, repo, numbers, GITHUB_TOKEN)\n",
    "        st.session_state.raw_rows = rows\n",
    "        st.success(f\"Fetched {len(rows)} PRs.\")\n",
    "        st.dataframe(pd.DataFrame([{\n",
    "            \"number\": r[\"number\"], \"title\": r[\"title\"], \"labels\": \", \".join(r.get(\"labels\") or []), \"url\": r[\"html_url\"]\n",
    "        } for r in rows]).head(20))\n",
    "\n",
    "if embed_btn:\n",
    "    if not st.session_state.raw_rows:\n",
    "        st.warning(\"Fetch PRs first.\")\n",
    "    else:\n",
    "        st.info(\"Embedding PRs…\")\n",
    "        emb, index_df, texts = embed_records(st.session_state.raw_rows, model_name)\n",
    "        st.session_state.emb = emb\n",
    "        st.session_state.index_df = index_df\n",
    "        st.session_state.text_blocks = texts\n",
    "        st.success(f\"Embeddings ready. Shape: {emb.shape}\")\n",
    "        st.dataframe(index_df.head(10))\n",
    "\n",
    "if cluster_btn:\n",
    "    if st.session_state.emb is None or st.session_state.index_df is None:\n",
    "        st.warning(\"Run embedding first.\")\n",
    "    else:\n",
    "        st.info(\"Clustering by threshold…\")\n",
    "        cids = cluster_by_threshold(st.session_state.emb, threshold)\n",
    "        out = st.session_state.index_df.copy()\n",
    "        out[\"cluster_id\"] = cids\n",
    "        st.session_state.cluster_df = out\n",
    "        st.success(\"Clustering complete.\")\n",
    "\n",
    "        # Largest clusters\n",
    "        st.subheader(\"Largest clusters\")\n",
    "        sizes = out.groupby(\"cluster_id\")[\"number\"].count().sort_values(ascending=False)\n",
    "        st.write(sizes.head(20))\n",
    "\n",
    "        # Preview keywords\n",
    "        st.subheader(\"Cluster preview (top title tokens)\")\n",
    "        st.dataframe(top_title_tokens(out))\n",
    "\n",
    "        # Labels per cluster\n",
    "        st.subheader(\"Label heatmap rows (top labels per cluster)\")\n",
    "        label_rows = []\n",
    "        grp = out.groupby(\"cluster_id\")\n",
    "        for cid, g in grp:\n",
    "            cnt = Counter()\n",
    "            for labs in g[\"labels\"].fillna(\"\"):\n",
    "                cnt.update(explode_labels(labs))\n",
    "            for lab, n in cnt.most_common(6):\n",
    "                label_rows.append({\"cluster_id\": cid, \"label\": lab, \"count\": n})\n",
    "        label_df = pd.DataFrame(label_rows)\n",
    "        st.dataframe(label_df.head(40))\n",
    "\n",
    "        # Path stats per cluster (uses original JSON)\n",
    "        st.subheader(\"Path stats (top-level directories per cluster)\")\n",
    "        num_to_record = {r[\"number\"]: r for r in st.session_state.raw_rows}\n",
    "        path_df = path_counts_by_cluster(out, num_to_record)\n",
    "        st.dataframe(path_df.head(40))\n"
   ]
  },
  {
   "cell_type": "markdown",
   "id": "25776f96",
   "metadata": {},
   "source": [
    "Similarity search"
   ]
  },
  {
   "cell_type": "code",
   "execution_count": 13,
   "id": "99abdeab",
   "metadata": {},
   "outputs": [
    {
     "name": "stderr",
     "output_type": "stream",
     "text": [
      "2025-10-26 21:20:19.500 Thread 'MainThread': missing ScriptRunContext! This warning can be ignored when running in bare mode.\n",
      "2025-10-26 21:20:19.501 Thread 'MainThread': missing ScriptRunContext! This warning can be ignored when running in bare mode.\n",
      "2025-10-26 21:20:19.502 Thread 'MainThread': missing ScriptRunContext! This warning can be ignored when running in bare mode.\n",
      "2025-10-26 21:20:19.503 Thread 'MainThread': missing ScriptRunContext! This warning can be ignored when running in bare mode.\n",
      "2025-10-26 21:20:19.503 Thread 'MainThread': missing ScriptRunContext! This warning can be ignored when running in bare mode.\n",
      "2025-10-26 21:20:19.503 Thread 'MainThread': missing ScriptRunContext! This warning can be ignored when running in bare mode.\n",
      "2025-10-26 21:20:19.504 Thread 'MainThread': missing ScriptRunContext! This warning can be ignored when running in bare mode.\n",
      "2025-10-26 21:20:19.504 Thread 'MainThread': missing ScriptRunContext! This warning can be ignored when running in bare mode.\n",
      "2025-10-26 21:20:19.505 Thread 'MainThread': missing ScriptRunContext! This warning can be ignored when running in bare mode.\n",
      "2025-10-26 21:20:19.505 Thread 'MainThread': missing ScriptRunContext! This warning can be ignored when running in bare mode.\n",
      "2025-10-26 21:20:19.506 Thread 'MainThread': missing ScriptRunContext! This warning can be ignored when running in bare mode.\n",
      "2025-10-26 21:20:19.506 Thread 'MainThread': missing ScriptRunContext! This warning can be ignored when running in bare mode.\n",
      "2025-10-26 21:20:19.506 Thread 'MainThread': missing ScriptRunContext! This warning can be ignored when running in bare mode.\n",
      "2025-10-26 21:20:19.506 Thread 'MainThread': missing ScriptRunContext! This warning can be ignored when running in bare mode.\n",
      "2025-10-26 21:20:19.506 Thread 'MainThread': missing ScriptRunContext! This warning can be ignored when running in bare mode.\n",
      "2025-10-26 21:20:19.506 Thread 'MainThread': missing ScriptRunContext! This warning can be ignored when running in bare mode.\n",
      "2025-10-26 21:20:19.506 Thread 'MainThread': missing ScriptRunContext! This warning can be ignored when running in bare mode.\n",
      "2025-10-26 21:20:19.506 Thread 'MainThread': missing ScriptRunContext! This warning can be ignored when running in bare mode.\n",
      "2025-10-26 21:20:19.506 Thread 'MainThread': missing ScriptRunContext! This warning can be ignored when running in bare mode.\n",
      "2025-10-26 21:20:19.506 Thread 'MainThread': missing ScriptRunContext! This warning can be ignored when running in bare mode.\n",
      "2025-10-26 21:20:19.506 Thread 'MainThread': missing ScriptRunContext! This warning can be ignored when running in bare mode.\n",
      "2025-10-26 21:20:19.506 Thread 'MainThread': missing ScriptRunContext! This warning can be ignored when running in bare mode.\n"
     ]
    }
   ],
   "source": [
    "# --- Similarity search ---\n",
    "st.header(\"Similarity Search\")\n",
    "query = st.text_area(\"Paste a new issue/PR description\", height=180,\n",
    "                     placeholder=\"e.g., Fix AI pathfinding bug in campaign X …\")\n",
    "topk = st.slider(\"Top K\", 5, 30, 10)\n",
    "\n",
    "if st.button(\"Search similar PRs\"):\n",
    "    if st.session_state.emb is None or st.session_state.index_df is None:\n",
    "        st.warning(\"Please embed (step 2) first.\")\n",
    "    else:\n",
    "        model = load_embed_model(model_name)\n",
    "        qv = model.encode([query], convert_to_numpy=True, normalize_embeddings=True)\n",
    "        sims = cosine_similarity(qv, st.session_state.emb)[0]\n",
    "        order = np.argsort(-sims)[:topk]\n",
    "        res = st.session_state.index_df.iloc[order].copy()\n",
    "        res.insert(1, \"similarity\", sims[order])\n",
    "        st.dataframe(res)\n",
    "        for r in res.itertuples():\n",
    "            st.markdown(f\"**PR #{int(r.number)}** — [{r.title}]({r.url})  \\nSimilarity: `{r.similarity:.3f}`  \\nLabels: `{r.labels}`\")\n"
   ]
  },
  {
   "cell_type": "code",
   "execution_count": 14,
   "id": "2b088525",
   "metadata": {},
   "outputs": [
    {
     "name": "stdout",
     "output_type": "stream",
     "text": [
      "Requirement already satisfied: sentence-transformers in c:\\users\\kaosa\\appdata\\local\\packages\\pythonsoftwarefoundation.python.3.11_qbz5n2kfra8p0\\localcache\\local-packages\\python311\\site-packages (5.1.2)\n",
      "Requirement already satisfied: pandas in c:\\users\\kaosa\\appdata\\local\\packages\\pythonsoftwarefoundation.python.3.11_qbz5n2kfra8p0\\localcache\\local-packages\\python311\\site-packages (2.3.1)\n",
      "Requirement already satisfied: numpy in c:\\users\\kaosa\\appdata\\local\\packages\\pythonsoftwarefoundation.python.3.11_qbz5n2kfra8p0\\localcache\\local-packages\\python311\\site-packages (2.1.3)\n",
      "Requirement already satisfied: scikit-learn in c:\\users\\kaosa\\appdata\\local\\packages\\pythonsoftwarefoundation.python.3.11_qbz5n2kfra8p0\\localcache\\local-packages\\python311\\site-packages (1.7.2)\n",
      "Requirement already satisfied: matplotlib in c:\\users\\kaosa\\appdata\\local\\packages\\pythonsoftwarefoundation.python.3.11_qbz5n2kfra8p0\\localcache\\local-packages\\python311\\site-packages (3.10.3)\n",
      "Requirement already satisfied: requests in c:\\users\\kaosa\\appdata\\local\\packages\\pythonsoftwarefoundation.python.3.11_qbz5n2kfra8p0\\localcache\\local-packages\\python311\\site-packages (2.32.4)\n",
      "Requirement already satisfied: transformers<5.0.0,>=4.41.0 in c:\\users\\kaosa\\appdata\\local\\packages\\pythonsoftwarefoundation.python.3.11_qbz5n2kfra8p0\\localcache\\local-packages\\python311\\site-packages (from sentence-transformers) (4.57.1)\n",
      "Requirement already satisfied: tqdm in c:\\users\\kaosa\\appdata\\local\\packages\\pythonsoftwarefoundation.python.3.11_qbz5n2kfra8p0\\localcache\\local-packages\\python311\\site-packages (from sentence-transformers) (4.67.1)\n",
      "Requirement already satisfied: torch>=1.11.0 in c:\\users\\kaosa\\appdata\\local\\packages\\pythonsoftwarefoundation.python.3.11_qbz5n2kfra8p0\\localcache\\local-packages\\python311\\site-packages (from sentence-transformers) (2.5.1+cu121)\n",
      "Requirement already satisfied: scipy in c:\\users\\kaosa\\appdata\\local\\packages\\pythonsoftwarefoundation.python.3.11_qbz5n2kfra8p0\\localcache\\local-packages\\python311\\site-packages (from sentence-transformers) (1.16.2)\n",
      "Requirement already satisfied: huggingface-hub>=0.20.0 in c:\\users\\kaosa\\appdata\\local\\packages\\pythonsoftwarefoundation.python.3.11_qbz5n2kfra8p0\\localcache\\local-packages\\python311\\site-packages (from sentence-transformers) (0.36.0)\n",
      "Requirement already satisfied: Pillow in c:\\users\\kaosa\\appdata\\local\\packages\\pythonsoftwarefoundation.python.3.11_qbz5n2kfra8p0\\localcache\\local-packages\\python311\\site-packages (from sentence-transformers) (11.3.0)\n",
      "Requirement already satisfied: typing_extensions>=4.5.0 in c:\\users\\kaosa\\appdata\\local\\packages\\pythonsoftwarefoundation.python.3.11_qbz5n2kfra8p0\\localcache\\local-packages\\python311\\site-packages (from sentence-transformers) (4.14.1)\n",
      "Requirement already satisfied: filelock in c:\\users\\kaosa\\appdata\\local\\packages\\pythonsoftwarefoundation.python.3.11_qbz5n2kfra8p0\\localcache\\local-packages\\python311\\site-packages (from transformers<5.0.0,>=4.41.0->sentence-transformers) (3.20.0)\n",
      "Requirement already satisfied: packaging>=20.0 in c:\\users\\kaosa\\appdata\\local\\packages\\pythonsoftwarefoundation.python.3.11_qbz5n2kfra8p0\\localcache\\local-packages\\python311\\site-packages (from transformers<5.0.0,>=4.41.0->sentence-transformers) (25.0)\n",
      "Requirement already satisfied: pyyaml>=5.1 in c:\\users\\kaosa\\appdata\\local\\packages\\pythonsoftwarefoundation.python.3.11_qbz5n2kfra8p0\\localcache\\local-packages\\python311\\site-packages (from transformers<5.0.0,>=4.41.0->sentence-transformers) (6.0.3)\n",
      "Requirement already satisfied: regex!=2019.12.17 in c:\\users\\kaosa\\appdata\\local\\packages\\pythonsoftwarefoundation.python.3.11_qbz5n2kfra8p0\\localcache\\local-packages\\python311\\site-packages (from transformers<5.0.0,>=4.41.0->sentence-transformers) (2025.10.23)\n",
      "Requirement already satisfied: tokenizers<=0.23.0,>=0.22.0 in c:\\users\\kaosa\\appdata\\local\\packages\\pythonsoftwarefoundation.python.3.11_qbz5n2kfra8p0\\localcache\\local-packages\\python311\\site-packages (from transformers<5.0.0,>=4.41.0->sentence-transformers) (0.22.1)\n",
      "Requirement already satisfied: safetensors>=0.4.3 in c:\\users\\kaosa\\appdata\\local\\packages\\pythonsoftwarefoundation.python.3.11_qbz5n2kfra8p0\\localcache\\local-packages\\python311\\site-packages (from transformers<5.0.0,>=4.41.0->sentence-transformers) (0.6.2)\n",
      "Requirement already satisfied: fsspec>=2023.5.0 in c:\\users\\kaosa\\appdata\\local\\packages\\pythonsoftwarefoundation.python.3.11_qbz5n2kfra8p0\\localcache\\local-packages\\python311\\site-packages (from huggingface-hub>=0.20.0->sentence-transformers) (2025.9.0)\n",
      "Requirement already satisfied: python-dateutil>=2.8.2 in c:\\users\\kaosa\\appdata\\local\\packages\\pythonsoftwarefoundation.python.3.11_qbz5n2kfra8p0\\localcache\\local-packages\\python311\\site-packages (from pandas) (2.9.0.post0)\n",
      "Requirement already satisfied: pytz>=2020.1 in c:\\users\\kaosa\\appdata\\local\\packages\\pythonsoftwarefoundation.python.3.11_qbz5n2kfra8p0\\localcache\\local-packages\\python311\\site-packages (from pandas) (2025.2)\n",
      "Requirement already satisfied: tzdata>=2022.7 in c:\\users\\kaosa\\appdata\\local\\packages\\pythonsoftwarefoundation.python.3.11_qbz5n2kfra8p0\\localcache\\local-packages\\python311\\site-packages (from pandas) (2025.2)\n",
      "Requirement already satisfied: joblib>=1.2.0 in c:\\users\\kaosa\\appdata\\local\\packages\\pythonsoftwarefoundation.python.3.11_qbz5n2kfra8p0\\localcache\\local-packages\\python311\\site-packages (from scikit-learn) (1.5.2)\n",
      "Requirement already satisfied: threadpoolctl>=3.1.0 in c:\\users\\kaosa\\appdata\\local\\packages\\pythonsoftwarefoundation.python.3.11_qbz5n2kfra8p0\\localcache\\local-packages\\python311\\site-packages (from scikit-learn) (3.6.0)\n",
      "Requirement already satisfied: contourpy>=1.0.1 in c:\\users\\kaosa\\appdata\\local\\packages\\pythonsoftwarefoundation.python.3.11_qbz5n2kfra8p0\\localcache\\local-packages\\python311\\site-packages (from matplotlib) (1.3.2)\n",
      "Requirement already satisfied: cycler>=0.10 in c:\\users\\kaosa\\appdata\\local\\packages\\pythonsoftwarefoundation.python.3.11_qbz5n2kfra8p0\\localcache\\local-packages\\python311\\site-packages (from matplotlib) (0.12.1)\n",
      "Requirement already satisfied: fonttools>=4.22.0 in c:\\users\\kaosa\\appdata\\local\\packages\\pythonsoftwarefoundation.python.3.11_qbz5n2kfra8p0\\localcache\\local-packages\\python311\\site-packages (from matplotlib) (4.59.0)\n",
      "Requirement already satisfied: kiwisolver>=1.3.1 in c:\\users\\kaosa\\appdata\\local\\packages\\pythonsoftwarefoundation.python.3.11_qbz5n2kfra8p0\\localcache\\local-packages\\python311\\site-packages (from matplotlib) (1.4.8)\n",
      "Requirement already satisfied: pyparsing>=2.3.1 in c:\\users\\kaosa\\appdata\\local\\packages\\pythonsoftwarefoundation.python.3.11_qbz5n2kfra8p0\\localcache\\local-packages\\python311\\site-packages (from matplotlib) (3.2.3)\n",
      "Requirement already satisfied: charset_normalizer<4,>=2 in c:\\users\\kaosa\\appdata\\local\\packages\\pythonsoftwarefoundation.python.3.11_qbz5n2kfra8p0\\localcache\\local-packages\\python311\\site-packages (from requests) (3.4.2)\n",
      "Requirement already satisfied: idna<4,>=2.5 in c:\\users\\kaosa\\appdata\\local\\packages\\pythonsoftwarefoundation.python.3.11_qbz5n2kfra8p0\\localcache\\local-packages\\python311\\site-packages (from requests) (3.10)\n",
      "Requirement already satisfied: urllib3<3,>=1.21.1 in c:\\users\\kaosa\\appdata\\local\\packages\\pythonsoftwarefoundation.python.3.11_qbz5n2kfra8p0\\localcache\\local-packages\\python311\\site-packages (from requests) (2.5.0)\n",
      "Requirement already satisfied: certifi>=2017.4.17 in c:\\users\\kaosa\\appdata\\local\\packages\\pythonsoftwarefoundation.python.3.11_qbz5n2kfra8p0\\localcache\\local-packages\\python311\\site-packages (from requests) (2025.7.14)\n",
      "Requirement already satisfied: six>=1.5 in c:\\users\\kaosa\\appdata\\local\\packages\\pythonsoftwarefoundation.python.3.11_qbz5n2kfra8p0\\localcache\\local-packages\\python311\\site-packages (from python-dateutil>=2.8.2->pandas) (1.17.0)\n",
      "Requirement already satisfied: networkx in c:\\users\\kaosa\\appdata\\local\\packages\\pythonsoftwarefoundation.python.3.11_qbz5n2kfra8p0\\localcache\\local-packages\\python311\\site-packages (from torch>=1.11.0->sentence-transformers) (3.5)\n",
      "Requirement already satisfied: jinja2 in c:\\users\\kaosa\\appdata\\local\\packages\\pythonsoftwarefoundation.python.3.11_qbz5n2kfra8p0\\localcache\\local-packages\\python311\\site-packages (from torch>=1.11.0->sentence-transformers) (3.1.6)\n",
      "Requirement already satisfied: sympy==1.13.1 in c:\\users\\kaosa\\appdata\\local\\packages\\pythonsoftwarefoundation.python.3.11_qbz5n2kfra8p0\\localcache\\local-packages\\python311\\site-packages (from torch>=1.11.0->sentence-transformers) (1.13.1)\n",
      "Requirement already satisfied: mpmath<1.4,>=1.1.0 in c:\\users\\kaosa\\appdata\\local\\packages\\pythonsoftwarefoundation.python.3.11_qbz5n2kfra8p0\\localcache\\local-packages\\python311\\site-packages (from sympy==1.13.1->torch>=1.11.0->sentence-transformers) (1.3.0)\n",
      "Requirement already satisfied: colorama in c:\\users\\kaosa\\appdata\\local\\packages\\pythonsoftwarefoundation.python.3.11_qbz5n2kfra8p0\\localcache\\local-packages\\python311\\site-packages (from tqdm->sentence-transformers) (0.4.6)\n",
      "Requirement already satisfied: MarkupSafe>=2.0 in c:\\users\\kaosa\\appdata\\local\\packages\\pythonsoftwarefoundation.python.3.11_qbz5n2kfra8p0\\localcache\\local-packages\\python311\\site-packages (from jinja2->torch>=1.11.0->sentence-transformers) (3.0.2)\n"
     ]
    }
   ],
   "source": [
    "!pip install sentence-transformers pandas numpy scikit-learn matplotlib requests\n"
   ]
  },
  {
   "cell_type": "code",
   "execution_count": 15,
   "id": "317ff9f6",
   "metadata": {},
   "outputs": [
    {
     "data": {
      "text/html": [
       "<div>\n",
       "<style scoped>\n",
       "    .dataframe tbody tr th:only-of-type {\n",
       "        vertical-align: middle;\n",
       "    }\n",
       "\n",
       "    .dataframe tbody tr th {\n",
       "        vertical-align: top;\n",
       "    }\n",
       "\n",
       "    .dataframe thead th {\n",
       "        text-align: right;\n",
       "    }\n",
       "</style>\n",
       "<table border=\"1\" class=\"dataframe\">\n",
       "  <thead>\n",
       "    <tr style=\"text-align: right;\">\n",
       "      <th></th>\n",
       "      <th>number</th>\n",
       "      <th>title</th>\n",
       "      <th>labels</th>\n",
       "      <th>url</th>\n",
       "    </tr>\n",
       "  </thead>\n",
       "  <tbody>\n",
       "    <tr>\n",
       "      <th>0</th>\n",
       "      <td>10635</td>\n",
       "      <td>Fix shema cumulative= valide for no numerical ...</td>\n",
       "      <td>Unit Tests,Units,Schema,Campaign DiD,Campaign ...</td>\n",
       "      <td>https://github.com/wesnoth/wesnoth/pull/10635</td>\n",
       "    </tr>\n",
       "    <tr>\n",
       "      <th>1</th>\n",
       "      <td>10633</td>\n",
       "      <td>Sort terrain entries alphabetically.</td>\n",
       "      <td>Help,Terrain</td>\n",
       "      <td>https://github.com/wesnoth/wesnoth/pull/10633</td>\n",
       "    </tr>\n",
       "    <tr>\n",
       "      <th>2</th>\n",
       "      <td>10537</td>\n",
       "      <td>Revert 'Balancing Update' to Dwarvish Miner</td>\n",
       "      <td>Units</td>\n",
       "      <td>https://github.com/wesnoth/wesnoth/pull/10537</td>\n",
       "    </tr>\n",
       "    <tr>\n",
       "      <th>3</th>\n",
       "      <td>10621</td>\n",
       "      <td>GUI2/Story Viewer: title text positioning supp...</td>\n",
       "      <td>UI,Schema</td>\n",
       "      <td>https://github.com/wesnoth/wesnoth/pull/10621</td>\n",
       "    </tr>\n",
       "    <tr>\n",
       "      <th>4</th>\n",
       "      <td>10625</td>\n",
       "      <td>Check for secret</td>\n",
       "      <td>CI,Android</td>\n",
       "      <td>https://github.com/wesnoth/wesnoth/pull/10625</td>\n",
       "    </tr>\n",
       "  </tbody>\n",
       "</table>\n",
       "</div>"
      ],
      "text/plain": [
       "   number                                              title  \\\n",
       "0   10635  Fix shema cumulative= valide for no numerical ...   \n",
       "1   10633               Sort terrain entries alphabetically.   \n",
       "2   10537        Revert 'Balancing Update' to Dwarvish Miner   \n",
       "3   10621  GUI2/Story Viewer: title text positioning supp...   \n",
       "4   10625                                   Check for secret   \n",
       "\n",
       "                                              labels  \\\n",
       "0  Unit Tests,Units,Schema,Campaign DiD,Campaign ...   \n",
       "1                                       Help,Terrain   \n",
       "2                                              Units   \n",
       "3                                          UI,Schema   \n",
       "4                                         CI,Android   \n",
       "\n",
       "                                             url  \n",
       "0  https://github.com/wesnoth/wesnoth/pull/10635  \n",
       "1  https://github.com/wesnoth/wesnoth/pull/10633  \n",
       "2  https://github.com/wesnoth/wesnoth/pull/10537  \n",
       "3  https://github.com/wesnoth/wesnoth/pull/10621  \n",
       "4  https://github.com/wesnoth/wesnoth/pull/10625  "
      ]
     },
     "execution_count": 15,
     "metadata": {},
     "output_type": "execute_result"
    }
   ],
   "source": [
    "import requests, json, time, pandas as pd, os\n",
    "from getpass import getpass\n",
    "\n",
    "OWNER, REPO, TARGET = \"wesnoth\", \"wesnoth\", 400\n",
    "TOKEN = getpass(\"GitHub token: \")\n",
    "API = \"https://api.github.com\"\n",
    "\n",
    "def gh(url, params=None):\n",
    "    h = {\"Authorization\": f\"Bearer {TOKEN}\"} if TOKEN else {}\n",
    "    r = requests.get(url, headers=h, params=params, timeout=60)\n",
    "    if r.status_code==403 and \"rate limit\" in r.text.lower():\n",
    "        reset = int(r.headers.get(\"X-RateLimit-Reset\", time.time()+60))\n",
    "        time.sleep(max(1, reset-int(time.time())+1))\n",
    "        r = requests.get(url, headers=h, params=params, timeout=60)\n",
    "    r.raise_for_status()\n",
    "    return r.json()\n",
    "\n",
    "def fetch_merged_prs(owner, repo, target):\n",
    "    out, page = [], 1\n",
    "    while len(out)<target:\n",
    "        batch = gh(f\"{API}/repos/{owner}/{repo}/pulls\",\n",
    "                   {\"state\":\"closed\",\"per_page\":100,\"page\":page,\"sort\":\"updated\",\"direction\":\"desc\"})\n",
    "        if not batch: break\n",
    "        out += [pr for pr in batch if pr.get(\"merged_at\")]\n",
    "        page += 1\n",
    "        if len(batch)<100: break\n",
    "    return out[:target]\n",
    "\n",
    "def details(owner, repo, num):\n",
    "    files = gh(f\"{API}/repos/{owner}/{repo}/pulls/{num}/files\")\n",
    "    commits = gh(f\"{API}/repos/{owner}/{repo}/pulls/{num}/commits\")\n",
    "    pr = gh(f\"{API}/repos/{owner}/{repo}/pulls/{num}\")\n",
    "    return {\n",
    "        \"number\": pr[\"number\"],\n",
    "        \"title\": pr[\"title\"],\n",
    "        \"labels\": [x[\"name\"] for x in pr.get(\"labels\",[])],\n",
    "        \"body\": pr.get(\"body\"),\n",
    "        \"files\": [{\"filename\": f.get(\"filename\")} for f in files],\n",
    "        \"commits_messages\": [c[\"commit\"][\"message\"] for c in commits],\n",
    "        \"url\": pr[\"html_url\"]\n",
    "    }\n",
    "\n",
    "merged = fetch_merged_prs(OWNER, REPO, TARGET)\n",
    "rows = [details(OWNER, REPO, pr[\"number\"]) for pr in merged]\n",
    "os.makedirs(\"data\", exist_ok=True)\n",
    "json.dump(rows, open(\"data/wesnoth_pr_data.json\",\"w\"), indent=2)\n",
    "idx = pd.DataFrame([{\"number\":r[\"number\"],\"title\":r[\"title\"],\n",
    "                     \"labels\":\",\".join(r[\"labels\"]), \"url\":r[\"url\"]} for r in rows])\n",
    "idx.to_csv(\"data/wesnoth_index.csv\", index=False)\n",
    "idx.head()\n"
   ]
  },
  {
   "cell_type": "code",
   "execution_count": 24,
   "id": "81bf3ae9",
   "metadata": {},
   "outputs": [
    {
     "data": {
      "image/png": "[encoded data removed]",
      "text/plain": [
       "<Figure size 1000x400 with 1 Axes>"
      ]
     },
     "metadata": {},
     "output_type": "display_data"
    },
    {
     "data": {
      "text/plain": [
       "cluster_id\n",
       "68     2\n",
       "217    2\n",
       "222    2\n",
       "5      1\n",
       "6      1\n",
       "7      1\n",
       "8      1\n",
       "9      1\n",
       "10     1\n",
       "11     1\n",
       "12     1\n",
       "365    1\n",
       "28     1\n",
       "381    1\n",
       "1      1\n",
       "Name: number, dtype: int64"
      ]
     },
     "execution_count": 24,
     "metadata": {},
     "output_type": "execute_result"
    }
   ],
   "source": [
    "import numpy as np, matplotlib.pyplot as plt\n",
    "from sentence_transformers import SentenceTransformer\n",
    "from sklearn.metrics.pairwise import cosine_similarity\n",
    "import pandas as pd, json\n",
    "%matplotlib inline\n",
    "def block(r):\n",
    "    files = \" \".join([f.get(\"filename\",\"\") for f in r.get(\"files\",[])])\n",
    "    cmts = \"\\n\".join(r.get(\"commits_messages\",[]))\n",
    "    return f\"TITLE: {r.get('title','')}\\nBODY: {r.get('body','')}\\nCOMMITS:\\n{cmts}\\nFILES: {files}\"\n",
    "\n",
    "data = json.load(open(\"data/wesnoth_pr_data.json\"))\n",
    "texts = [block(r) for r in data]\n",
    "model = SentenceTransformer(\"sentence-transformers/all-MiniLM-L6-v2\")\n",
    "emb = model.encode(texts, convert_to_numpy=True, normalize_embeddings=True)\n",
    "\n",
    "# threshold clustering\n",
    "def cluster(emb, thr=0.92):\n",
    "    sim = cosine_similarity(emb); np.fill_diagonal(sim,1.0)\n",
    "    n = sim.shape[0]\n",
    "    parent = list(range(n)); rank=[0]*n\n",
    "    def find(x):\n",
    "        if parent[x]!=x: parent[x]=find(parent[x]); return parent[x]\n",
    "        return x\n",
    "    def union(a,b):\n",
    "        ra,rb = find(a),find(b)\n",
    "        if ra==rb: return\n",
    "        if rank[ra]<rank[rb]: parent[ra]=rb\n",
    "        elif rank[ra]>rank[rb]: parent[rb]=ra\n",
    "        else: parent[rb]=ra; rank[ra]+=1\n",
    "    for i in range(n):\n",
    "        js = np.where(sim[i, i+1:]>=thr)[0]+(i+1)\n",
    "        for j in js: union(i,j)\n",
    "    roots = {}\n",
    "    cid = np.full(n, -1)\n",
    "    next_id=0\n",
    "    for i in range(n):\n",
    "        r = find(i)\n",
    "        if r not in roots: roots[r]=next_id; next_id+=1\n",
    "        cid[i]=roots[r]\n",
    "    return cid\n",
    "\n",
    "cids = cluster(emb, 0.92)\n",
    "df = pd.read_csv(\"data/wesnoth_index.csv\")\n",
    "df[\"cluster_id\"] = cids\n",
    "\n",
    "# Plot cluster sizes\n",
    "sizes = df.groupby(\"cluster_id\")[\"number\"].count().sort_values(ascending=False)\n",
    "plt.figure(figsize=(10,4))\n",
    "plt.bar(sizes.index.astype(str), sizes.values)\n",
    "plt.title(\"Cluster sizes (t=0.92)\"); plt.xlabel(\"cluster_id\"); plt.ylabel(\"count\")\n",
    "plt.show()\n",
    "\n",
    "sizes.head(15)\n"
   ]
  },
  {
   "cell_type": "code",
   "execution_count": 17,
   "id": "6d8ddfd8",
   "metadata": {},
   "outputs": [
    {
     "data": {
      "text/plain": [
       "cluster_id\n",
       "217    2\n",
       "222    2\n",
       "68     2\n",
       "7      1\n",
       "8      1\n",
       "9      1\n",
       "10     1\n",
       "11     1\n",
       "12     1\n",
       "365    1\n",
       "Name: number, dtype: int64"
      ]
     },
     "execution_count": 17,
     "metadata": {},
     "output_type": "execute_result"
    }
   ],
   "source": [
    "sizes.sort_values(ascending=False).head(10)\n"
   ]
  },
  {
   "cell_type": "code",
   "execution_count": 18,
   "id": "512fd748",
   "metadata": {},
   "outputs": [
    {
     "data": {
      "text/html": [
       "<div>\n",
       "<style scoped>\n",
       "    .dataframe tbody tr th:only-of-type {\n",
       "        vertical-align: middle;\n",
       "    }\n",
       "\n",
       "    .dataframe tbody tr th {\n",
       "        vertical-align: top;\n",
       "    }\n",
       "\n",
       "    .dataframe thead th {\n",
       "        text-align: right;\n",
       "    }\n",
       "</style>\n",
       "<table border=\"1\" class=\"dataframe\">\n",
       "  <thead>\n",
       "    <tr style=\"text-align: right;\">\n",
       "      <th></th>\n",
       "      <th>number</th>\n",
       "      <th>title</th>\n",
       "      <th>labels</th>\n",
       "      <th>url</th>\n",
       "    </tr>\n",
       "  </thead>\n",
       "  <tbody>\n",
       "    <tr>\n",
       "      <th>68</th>\n",
       "      <td>10545</td>\n",
       "      <td>MP: Fix lag during AI turns on 5P The Wilderlands</td>\n",
       "      <td>MP,Stable 1.18</td>\n",
       "      <td>https://github.com/wesnoth/wesnoth/pull/10545</td>\n",
       "    </tr>\n",
       "    <tr>\n",
       "      <th>69</th>\n",
       "      <td>10482</td>\n",
       "      <td>MP: Fix lag during AI turns on 5P The Wilderlands</td>\n",
       "      <td>MP</td>\n",
       "      <td>https://github.com/wesnoth/wesnoth/pull/10482</td>\n",
       "    </tr>\n",
       "  </tbody>\n",
       "</table>\n",
       "</div>"
      ],
      "text/plain": [
       "    number                                              title          labels  \\\n",
       "68   10545  MP: Fix lag during AI turns on 5P The Wilderlands  MP,Stable 1.18   \n",
       "69   10482  MP: Fix lag during AI turns on 5P The Wilderlands              MP   \n",
       "\n",
       "                                              url  \n",
       "68  https://github.com/wesnoth/wesnoth/pull/10545  \n",
       "69  https://github.com/wesnoth/wesnoth/pull/10482  "
      ]
     },
     "execution_count": 18,
     "metadata": {},
     "output_type": "execute_result"
    }
   ],
   "source": [
    "df[df[\"cluster_id\"] == 68][[\"number\", \"title\", \"labels\", \"url\"]]\n"
   ]
  },
  {
   "cell_type": "code",
   "execution_count": 20,
   "id": "6f53db3c",
   "metadata": {},
   "outputs": [
    {
     "data": {
      "image/png": "[encoded data removed]",
      "text/plain": [
       "<Figure size 1000x400 with 1 Axes>"
      ]
     },
     "metadata": {},
     "output_type": "display_data"
    },
    {
     "data": {
      "image/png": "[encoded data removed]",
      "text/plain": [
       "<Figure size 1000x400 with 1 Axes>"
      ]
     },
     "metadata": {},
     "output_type": "display_data"
    },
    {
     "data": {
      "image/png": "[encoded data removed]",
      "text/plain": [
       "<Figure size 1000x400 with 1 Axes>"
      ]
     },
     "metadata": {},
     "output_type": "display_data"
    }
   ],
   "source": [
    "import matplotlib.pyplot as plt\n",
    "%matplotlib inline\n",
    "\n",
    "plt.figure(figsize=(10,4))\n",
    "plt.bar(sizes.index.astype(str), sizes.values)\n",
    "plt.title(\"Cluster sizes (t=0.92)\")\n",
    "plt.xlabel(\"Cluster ID\")\n",
    "plt.ylabel(\"Number of PRs\")\n",
    "plt.show()\n"
   ]
  },
  {
   "cell_type": "code",
   "execution_count": 21,
   "id": "97f73421",
   "metadata": {},
   "outputs": [
    {
     "data": {
      "image/png": "[encoded data removed]",
      "text/plain": [
       "<Figure size 800x400 with 1 Axes>"
      ]
     },
     "metadata": {},
     "output_type": "display_data"
    }
   ],
   "source": [
    "import matplotlib.pyplot as plt\n",
    "\n",
    "top_n = 15\n",
    "top_sizes = sizes.sort_values(ascending=False).head(top_n)\n",
    "\n",
    "plt.figure(figsize=(8, 4))\n",
    "top_sizes.plot(kind='bar')\n",
    "plt.title(f\"Top {top_n} Largest Clusters (t=0.92)\")\n",
    "plt.xlabel(\"Cluster ID\")\n",
    "plt.ylabel(\"Number of PRs\")\n",
    "plt.tight_layout()\n",
    "plt.show()\n"
   ]
  },
  {
   "cell_type": "code",
   "execution_count": 22,
   "id": "a7713758",
   "metadata": {},
   "outputs": [
    {
     "data": {
      "image/png": "[encoded data removed]",
      "text/plain": [
       "<Figure size 600x400 with 1 Axes>"
      ]
     },
     "metadata": {},
     "output_type": "display_data"
    }
   ],
   "source": [
    "plt.figure(figsize=(6, 4))\n",
    "sizes.value_counts().sort_index().plot(kind='bar')\n",
    "plt.title(\"Distribution of Cluster Sizes\")\n",
    "plt.xlabel(\"Cluster Size\")\n",
    "plt.ylabel(\"Number of Clusters\")\n",
    "plt.tight_layout()\n",
    "plt.show()\n"
   ]
  },
  {
   "cell_type": "code",
   "execution_count": 23,
   "id": "c1888c14",
   "metadata": {},
   "outputs": [
    {
     "name": "stdout",
     "output_type": "stream",
     "text": [
      "Total clusters: 397\n",
      "Single-PR clusters: 394\n",
      "Multi-PR clusters: 3\n",
      "Largest cluster size: 2\n"
     ]
    }
   ],
   "source": [
    "print(\"Total clusters:\", len(sizes))\n",
    "print(\"Single-PR clusters:\", (sizes==1).sum())\n",
    "print(\"Multi-PR clusters:\", (sizes>1).sum())\n",
    "print(\"Largest cluster size:\", sizes.max())\n"
   ]
  }
 ],
 "metadata": {
  "kernelspec": {
   "display_name": "Python 3",
   "language": "python",
   "name": "python3"
  },
  "language_info": {
   "codemirror_mode": {
    "name": "ipython",
    "version": 3
   },
   "file_extension": ".py",
   "mimetype": "text/x-python",
   "name": "python",
   "nbconvert_exporter": "python",
   "pygments_lexer": "ipython3",
   "version": "3.11.9"
  }
 },
 "nbformat": 4,
 "nbformat_minor": 5
}

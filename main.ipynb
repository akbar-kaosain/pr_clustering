{
 "cells": [
  {
   "cell_type": "markdown",
   "id": "2252784b",
   "metadata": {},
   "source": [
    "Imports and Configuration"
   ]
  },
  {
   "cell_type": "code",
   "execution_count": 33,
   "id": "e48a6fed",
   "metadata": {},
   "outputs": [
    {
     "name": "stderr",
     "output_type": "stream",
     "text": [
      "2025-10-27 16:03:37.695 Thread 'MainThread': missing ScriptRunContext! This warning can be ignored when running in bare mode.\n",
      "2025-10-27 16:03:37.697 Thread 'MainThread': missing ScriptRunContext! This warning can be ignored when running in bare mode.\n",
      "2025-10-27 16:03:37.698 Thread 'MainThread': missing ScriptRunContext! This warning can be ignored when running in bare mode.\n",
      "2025-10-27 16:03:37.698 Thread 'MainThread': missing ScriptRunContext! This warning can be ignored when running in bare mode.\n"
     ]
    },
    {
     "data": {
      "text/plain": [
       "DeltaGenerator()"
      ]
     },
     "execution_count": 33,
     "metadata": {},
     "output_type": "execute_result"
    }
   ],
   "source": [
    "\n",
    "import os \n",
    "import json \n",
    "import time\n",
    "import numpy as np\n",
    "import pandas as pd\n",
    "import requests\n",
    "import streamlit as st\n",
    "from collections import Counter, defaultdict\n",
    "from getpass import getpass\n",
    "\n",
    "import matplotlib.pyplot as plt\n",
    "from sentence_transformers import SentenceTransformer\n",
    "from sklearn.metrics.pairwise import cosine_similarity\n",
    "\n",
    "%matplotlib inline\n",
    "\n",
    "os.environ[\"TRANSFORMERS_NO_TF\"] = \"1\"\n",
    "os.environ[\"TRANSFORMERS_NO_FLAX\"] = \"1\"\n",
    "\n",
    "from sentence_transformers import SentenceTransformer\n",
    "from sklearn.metrics.pairwise import cosine_similarity\n",
    "\n",
    "\n",
    "st.set_page_config(page_title=\"Wesnoth PR Clustering\", layout=\"wide\")\n",
    "st.title(\"Patch Patterns: Clustering Similar Pull Requests\")\n"
   ]
  },
  {
   "cell_type": "markdown",
   "id": "47875100",
   "metadata": {},
   "source": [
    "Streamlit Configuration"
   ]
  },
  {
   "cell_type": "code",
   "execution_count": 34,
   "id": "63843dc6",
   "metadata": {},
   "outputs": [
    {
     "name": "stderr",
     "output_type": "stream",
     "text": [
      "2025-10-27 16:03:37.726 Thread 'MainThread': missing ScriptRunContext! This warning can be ignored when running in bare mode.\n",
      "2025-10-27 16:03:37.728 Thread 'MainThread': missing ScriptRunContext! This warning can be ignored when running in bare mode.\n",
      "2025-10-27 16:03:37.730 Thread 'MainThread': missing ScriptRunContext! This warning can be ignored when running in bare mode.\n",
      "2025-10-27 16:03:37.730 Thread 'MainThread': missing ScriptRunContext! This warning can be ignored when running in bare mode.\n"
     ]
    },
    {
     "data": {
      "text/plain": [
       "DeltaGenerator()"
      ]
     },
     "execution_count": 34,
     "metadata": {},
     "output_type": "execute_result"
    }
   ],
   "source": [
    "st.set_page_config(page_title=\"Wesnoth PR Clustering\", layout=\"wide\")\n",
    "st.title(\"Patch Patterns: Clustering Similar Pull Requests\")"
   ]
  },
  {
   "cell_type": "markdown",
   "id": "51f496dc",
   "metadata": {},
   "source": [
    "Read GitHub token from Streamlit Secrets"
   ]
  },
  {
   "cell_type": "code",
   "execution_count": 35,
   "id": "8c546139",
   "metadata": {},
   "outputs": [],
   "source": [
    "\n",
    "GITHUB_TOKEN = st.secrets.get(\"GITHUB_TOKEN\", \"\")\n",
    "if not GITHUB_TOKEN:\n",
    "    st.info(\"ℹ️ Add a GitHub token in Streamlit → Settings → Secrets as `GITHUB_TOKEN`.\")\n"
   ]
  },
  {
   "cell_type": "markdown",
   "id": "d116b9ec",
   "metadata": {},
   "source": [
    "GitHub API helpers (cached)"
   ]
  },
  {
   "cell_type": "code",
   "execution_count": 36,
   "id": "a8771fb3",
   "metadata": {},
   "outputs": [
    {
     "name": "stderr",
     "output_type": "stream",
     "text": [
      "2025-10-27 16:03:37.766 No runtime found, using MemoryCacheStorageManager\n"
     ]
    }
   ],
   "source": [
    "@st.cache_data(show_spinner=False)\n",
    "def gh_get(url: str, token: str, params: dict | None = None, accept: str | None = None):\n",
    "    headers = {\"Authorization\": f\"Bearer {token}\"} if token else {}\n",
    "    if accept: headers[\"Accept\"] = accept\n",
    "    r = requests.get(url, headers=headers, params=params, timeout=60)\n",
    "    if r.status_code == 403 and \"rate limit\" in r.text.lower():\n",
    "        reset = int(r.headers.get(\"X-RateLimit-Reset\", time.time()+60))\n",
    "        sleep_s = max(1, reset - int(time.time()) + 1)\n",
    "        time.sleep(sleep_s)\n",
    "        r = requests.get(url, headers=headers, params=params, timeout=60)\n",
    "    r.raise_for_status()\n",
    "    return r.json()\n"
   ]
  },
  {
   "cell_type": "code",
   "execution_count": 37,
   "id": "5c87bea8",
   "metadata": {},
   "outputs": [
    {
     "name": "stderr",
     "output_type": "stream",
     "text": [
      "2025-10-27 16:03:37.783 No runtime found, using MemoryCacheStorageManager\n"
     ]
    }
   ],
   "source": [
    "@st.cache_data(show_spinner=True)\n",
    "def fetch_merged_prs(owner: str, repo: str, target: int, token: str):\n",
    "    GITHUB_API = \"https://api.github.com\"\n",
    "    prs, page, per_page = [], 1, 100\n",
    "    while len(prs) < target:\n",
    "        url = f\"{GITHUB_API}/repos/{owner}/{repo}/pulls\"\n",
    "        params = {\"state\": \"closed\", \"per_page\": per_page, \"page\": page, \"sort\": \"updated\", \"direction\": \"desc\"}\n",
    "        batch = gh_get(url, token, params=params)\n",
    "        if not batch: break\n",
    "        merged = [pr for pr in batch if pr.get(\"merged_at\")]\n",
    "        prs.extend(merged)\n",
    "        page += 1\n",
    "        if len(batch) < per_page: break\n",
    "    return prs[:target]\n",
    "\n"
   ]
  },
  {
   "cell_type": "markdown",
   "id": "cbe95fe0",
   "metadata": {},
   "source": [
    "Text building for embeddings"
   ]
  },
  {
   "cell_type": "code",
   "execution_count": 38,
   "id": "8cbf72d1",
   "metadata": {},
   "outputs": [],
   "source": [
    "# --- Text block builder ---\n",
    "def build_text_block(rec: dict) -> str:\n",
    "    title = rec.get(\"title\") or \"\"\n",
    "    body = rec.get(\"body\") or \"\"\n",
    "    commits = \"\\n\".join(rec.get(\"commits_messages\") or [])\n",
    "    files = rec.get(\"files\") or []\n",
    "    changed_paths = \" \".join([f.get(\"filename\",\"\") for f in files])\n",
    "    return f\"TITLE: {title}\\nBODY: {body}\\nCOMMITS:\\n{commits}\\nFILES: {changed_paths}\".strip()\n"
   ]
  },
  {
   "cell_type": "code",
   "execution_count": 39,
   "id": "542be99a",
   "metadata": {},
   "outputs": [
    {
     "name": "stderr",
     "output_type": "stream",
     "text": [
      "2025-10-27 16:03:37.821 No runtime found, using MemoryCacheStorageManager\n"
     ]
    }
   ],
   "source": [
    "@st.cache_data(show_spinner=True)\n",
    "def fetch_pr_details(owner: str, repo: str, numbers: list[int], token: str):\n",
    "    GITHUB_API = \"https://api.github.com\"\n",
    "    out = []\n",
    "    for n in numbers:\n",
    "        files = gh_get(f\"{GITHUB_API}/repos/{owner}/{repo}/pulls/{n}/files\", token)\n",
    "        commits = gh_get(f\"{GITHUB_API}/repos/{owner}/{repo}/pulls/{n}/commits\", token)\n",
    "        pr = gh_get(f\"{GITHUB_API}/repos/{owner}/{repo}/pulls/{n}\", token)\n",
    "        file_entries = [{\n",
    "            \"filename\": f.get(\"filename\"),\n",
    "            \"status\": f.get(\"status\"),\n",
    "            \"additions\": f.get(\"additions\"),\n",
    "            \"deletions\": f.get(\"deletions\"),\n",
    "            \"changes\":  f.get(\"changes\"),\n",
    "            \"patch\":    f.get(\"patch\"),\n",
    "        } for f in files]\n",
    "        commit_msgs = [c.get(\"commit\", {}).get(\"message\",\"\") for c in commits]\n",
    "        labels = [lab.get(\"name\") for lab in pr.get(\"labels\", [])]\n",
    "        out.append({\n",
    "            \"number\": pr.get(\"number\"),\n",
    "            \"title\": pr.get(\"title\"),\n",
    "            \"user\": pr.get(\"user\", {}).get(\"login\"),\n",
    "            \"state\": pr.get(\"state\"),\n",
    "            \"merged_at\": pr.get(\"merged_at\"),\n",
    "            \"created_at\": pr.get(\"created_at\"),\n",
    "            \"updated_at\": pr.get(\"updated_at\"),\n",
    "            \"labels\": labels,\n",
    "            \"body\": pr.get(\"body\"),\n",
    "            \"files\": file_entries,\n",
    "            \"commits_messages\": commit_msgs,\n",
    "            \"html_url\": pr.get(\"html_url\"),\n",
    "        })\n",
    "    return out\n"
   ]
  },
  {
   "cell_type": "markdown",
   "id": "1b0c4155",
   "metadata": {},
   "source": [
    "Embedding model loading and encoding (cached)"
   ]
  },
  {
   "cell_type": "code",
   "execution_count": 40,
   "id": "f0aad5aa",
   "metadata": {},
   "outputs": [
    {
     "name": "stderr",
     "output_type": "stream",
     "text": [
      "2025-10-27 16:03:37.846 No runtime found, using MemoryCacheStorageManager\n"
     ]
    }
   ],
   "source": [
    "# --- Embedding (cached) ---\n",
    "@st.cache_resource(show_spinner=True)\n",
    "def load_embed_model(model_name: str):\n",
    "    return SentenceTransformer(model_name)\n",
    "\n",
    "@st.cache_data(show_spinner=True)\n",
    "def embed_records(data: list[dict], model_name: str):\n",
    "    texts = [build_text_block(r) for r in data]\n",
    "    model = load_embed_model(model_name)\n",
    "    emb = model.encode(texts, show_progress_bar=False, convert_to_numpy=True, normalize_embeddings=True)\n",
    "    index_rows = [{\n",
    "        \"number\": r.get(\"number\"),\n",
    "        \"title\": r.get(\"title\"),\n",
    "        \"labels\": \",\".join(r.get(\"labels\") or []),\n",
    "        \"url\": r.get(\"html_url\"),\n",
    "    } for r in data]\n",
    "    return emb, pd.DataFrame(index_rows), texts\n"
   ]
  },
  {
   "cell_type": "markdown",
   "id": "d86ddee3",
   "metadata": {},
   "source": [
    "Clustering via threshold graph → connected components"
   ]
  },
  {
   "cell_type": "code",
   "execution_count": 41,
   "id": "d4cd1468",
   "metadata": {},
   "outputs": [],
   "source": [
    "# --- Clustering ---\n",
    "def cluster_by_threshold(emb: np.ndarray, threshold: float):\n",
    "    sim = cosine_similarity(emb)\n",
    "    np.fill_diagonal(sim, 1.0)\n",
    "    n = sim.shape[0]\n",
    "\n",
    "    # Union-Find for connected components (faster than building NetworkX graph on large n)\n",
    "    parent = list(range(n))\n",
    "    rank = [0]*n\n",
    "    def find(x):\n",
    "        if parent[x]!=x: parent[x]=find(parent[x])\n",
    "        return parent[x]\n",
    "    def union(x,y):\n",
    "        rx,ry = find(x),find(y)\n",
    "        if rx==ry: return\n",
    "        if rank[rx]<rank[ry]: parent[rx]=ry\n",
    "        elif rank[rx]>rank[ry]: parent[ry]=rx\n",
    "        else: parent[ry]=rx; rank[rx]+=1\n",
    "\n",
    "    for i in range(n):\n",
    "        row = sim[i, i+1:]\n",
    "        js = np.where(row >= threshold)[0] + (i+1)\n",
    "        for j in js: union(i,j)\n",
    "\n",
    "    root_to_id, cid = {}, 0\n",
    "    cluster_ids = np.zeros(n, dtype=int) - 1\n",
    "    for i in range(n):\n",
    "        r = find(i)\n",
    "        if r not in root_to_id:\n",
    "            root_to_id[r] = cid\n",
    "            cid += 1\n",
    "        cluster_ids[i] = root_to_id[r]\n",
    "    return cluster_ids\n"
   ]
  },
  {
   "cell_type": "markdown",
   "id": "d90a98a0",
   "metadata": {},
   "source": [
    "Small utilities for preview and analysis"
   ]
  },
  {
   "cell_type": "code",
   "execution_count": 42,
   "id": "e88f5787",
   "metadata": {},
   "outputs": [],
   "source": [
    "def top_title_tokens(df_with_titles: pd.DataFrame, max_tokens=8):\n",
    "    import re\n",
    "    rows = []\n",
    "    grp = df_with_titles.groupby(\"cluster_id\")\n",
    "    for cid, g in grp:\n",
    "        toks = []\n",
    "        for t in g[\"title\"].fillna(\"\"):\n",
    "            toks += [w for w in re.findall(r\"[A-Za-z][A-Za-z0-9_+-]{2,}\", t.lower())\n",
    "                     if w not in {\"the\",\"and\",\"for\",\"with\",\"into\",\"from\",\"this\",\"that\",\"fix\",\"pr\"}]\n",
    "        common = \" \".join([w for w,_ in Counter(toks).most_common(max_tokens)])\n",
    "        rows.append({\"cluster_id\": cid, \"n_items\": len(g), \"top_title_tokens\": common})\n",
    "    return pd.DataFrame(rows).sort_values(\"n_items\", ascending=False)\n"
   ]
  },
  {
   "cell_type": "code",
   "execution_count": 43,
   "id": "d6995ea3",
   "metadata": {},
   "outputs": [],
   "source": [
    "def explode_labels(s: str) -> list[str]:\n",
    "    if not isinstance(s, str) or not s.strip(): return []\n",
    "    return [x.strip() for x in s.split(\",\") if x.strip()]"
   ]
  },
  {
   "cell_type": "code",
   "execution_count": 44,
   "id": "bb844328",
   "metadata": {},
   "outputs": [],
   "source": [
    "def path_counts_by_cluster(df_clusters: pd.DataFrame, num_to_record: dict[int, dict]):\n",
    "    counts = defaultdict(Counter)\n",
    "    for r in df_clusters.itertuples():\n",
    "        rec = num_to_record.get(int(r.number))\n",
    "        if not rec: continue\n",
    "        for f in (rec.get(\"files\") or []):\n",
    "            fn = (f.get(\"filename\") or \"\").strip()\n",
    "            if fn:\n",
    "                top = fn.split(\"/\")[0] if \"/\" in fn else fn\n",
    "                counts[r.cluster_id][top] += 1\n",
    "    rows = []\n",
    "    for cid, cnt in counts.items():\n",
    "        for p, n in cnt.most_common(8):\n",
    "            rows.append({\"cluster_id\": cid, \"path\": p, \"count\": n})\n",
    "    return pd.DataFrame(rows)"
   ]
  },
  {
   "cell_type": "markdown",
   "id": "c0b3823c",
   "metadata": {},
   "source": [
    "Sidebar controls (owner/repo/target/model/threshold + buttons)"
   ]
  },
  {
   "cell_type": "code",
   "execution_count": 45,
   "id": "b20b6716",
   "metadata": {},
   "outputs": [
    {
     "name": "stderr",
     "output_type": "stream",
     "text": [
      "2025-10-27 16:03:37.934 Thread 'MainThread': missing ScriptRunContext! This warning can be ignored when running in bare mode.\n",
      "2025-10-27 16:03:37.935 Thread 'MainThread': missing ScriptRunContext! This warning can be ignored when running in bare mode.\n",
      "2025-10-27 16:03:37.936 Thread 'MainThread': missing ScriptRunContext! This warning can be ignored when running in bare mode.\n",
      "2025-10-27 16:03:37.937 Thread 'MainThread': missing ScriptRunContext! This warning can be ignored when running in bare mode.\n",
      "2025-10-27 16:03:37.938 Thread 'MainThread': missing ScriptRunContext! This warning can be ignored when running in bare mode.\n",
      "2025-10-27 16:03:37.939 Thread 'MainThread': missing ScriptRunContext! This warning can be ignored when running in bare mode.\n",
      "2025-10-27 16:03:37.939 Thread 'MainThread': missing ScriptRunContext! This warning can be ignored when running in bare mode.\n",
      "2025-10-27 16:03:37.940 Thread 'MainThread': missing ScriptRunContext! This warning can be ignored when running in bare mode.\n",
      "2025-10-27 16:03:37.941 Thread 'MainThread': missing ScriptRunContext! This warning can be ignored when running in bare mode.\n",
      "2025-10-27 16:03:37.942 Thread 'MainThread': missing ScriptRunContext! This warning can be ignored when running in bare mode.\n",
      "2025-10-27 16:03:37.944 Thread 'MainThread': missing ScriptRunContext! This warning can be ignored when running in bare mode.\n",
      "2025-10-27 16:03:37.945 Thread 'MainThread': missing ScriptRunContext! This warning can be ignored when running in bare mode.\n",
      "2025-10-27 16:03:37.946 Thread 'MainThread': missing ScriptRunContext! This warning can be ignored when running in bare mode.\n",
      "2025-10-27 16:03:37.947 Thread 'MainThread': missing ScriptRunContext! This warning can be ignored when running in bare mode.\n",
      "2025-10-27 16:03:37.947 Thread 'MainThread': missing ScriptRunContext! This warning can be ignored when running in bare mode.\n",
      "2025-10-27 16:03:37.948 Thread 'MainThread': missing ScriptRunContext! This warning can be ignored when running in bare mode.\n",
      "2025-10-27 16:03:37.949 Thread 'MainThread': missing ScriptRunContext! This warning can be ignored when running in bare mode.\n",
      "2025-10-27 16:03:37.950 Thread 'MainThread': missing ScriptRunContext! This warning can be ignored when running in bare mode.\n",
      "2025-10-27 16:03:37.951 Thread 'MainThread': missing ScriptRunContext! This warning can be ignored when running in bare mode.\n",
      "2025-10-27 16:03:37.951 Thread 'MainThread': missing ScriptRunContext! This warning can be ignored when running in bare mode.\n",
      "2025-10-27 16:03:37.955 Thread 'MainThread': missing ScriptRunContext! This warning can be ignored when running in bare mode.\n",
      "2025-10-27 16:03:37.956 Thread 'MainThread': missing ScriptRunContext! This warning can be ignored when running in bare mode.\n",
      "2025-10-27 16:03:37.956 Thread 'MainThread': missing ScriptRunContext! This warning can be ignored when running in bare mode.\n",
      "2025-10-27 16:03:37.957 Thread 'MainThread': missing ScriptRunContext! This warning can be ignored when running in bare mode.\n",
      "2025-10-27 16:03:37.958 Thread 'MainThread': missing ScriptRunContext! This warning can be ignored when running in bare mode.\n",
      "2025-10-27 16:03:37.959 Thread 'MainThread': missing ScriptRunContext! This warning can be ignored when running in bare mode.\n",
      "2025-10-27 16:03:37.960 Thread 'MainThread': missing ScriptRunContext! This warning can be ignored when running in bare mode.\n",
      "2025-10-27 16:03:37.961 Thread 'MainThread': missing ScriptRunContext! This warning can be ignored when running in bare mode.\n",
      "2025-10-27 16:03:37.963 Thread 'MainThread': missing ScriptRunContext! This warning can be ignored when running in bare mode.\n",
      "2025-10-27 16:03:37.964 Thread 'MainThread': missing ScriptRunContext! This warning can be ignored when running in bare mode.\n",
      "2025-10-27 16:03:37.964 Thread 'MainThread': missing ScriptRunContext! This warning can be ignored when running in bare mode.\n",
      "2025-10-27 16:03:37.965 Thread 'MainThread': missing ScriptRunContext! This warning can be ignored when running in bare mode.\n",
      "2025-10-27 16:03:37.966 Thread 'MainThread': missing ScriptRunContext! This warning can be ignored when running in bare mode.\n",
      "2025-10-27 16:03:37.967 Thread 'MainThread': missing ScriptRunContext! This warning can be ignored when running in bare mode.\n",
      "2025-10-27 16:03:37.968 Thread 'MainThread': missing ScriptRunContext! This warning can be ignored when running in bare mode.\n",
      "2025-10-27 16:03:37.969 Thread 'MainThread': missing ScriptRunContext! This warning can be ignored when running in bare mode.\n",
      "2025-10-27 16:03:37.970 Thread 'MainThread': missing ScriptRunContext! This warning can be ignored when running in bare mode.\n",
      "2025-10-27 16:03:37.971 Thread 'MainThread': missing ScriptRunContext! This warning can be ignored when running in bare mode.\n",
      "2025-10-27 16:03:37.971 Thread 'MainThread': missing ScriptRunContext! This warning can be ignored when running in bare mode.\n",
      "2025-10-27 16:03:37.973 Thread 'MainThread': missing ScriptRunContext! This warning can be ignored when running in bare mode.\n",
      "2025-10-27 16:03:37.974 Thread 'MainThread': missing ScriptRunContext! This warning can be ignored when running in bare mode.\n",
      "2025-10-27 16:03:37.975 Thread 'MainThread': missing ScriptRunContext! This warning can be ignored when running in bare mode.\n",
      "2025-10-27 16:03:37.977 Thread 'MainThread': missing ScriptRunContext! This warning can be ignored when running in bare mode.\n",
      "2025-10-27 16:03:37.978 Thread 'MainThread': missing ScriptRunContext! This warning can be ignored when running in bare mode.\n",
      "2025-10-27 16:03:37.981 Thread 'MainThread': missing ScriptRunContext! This warning can be ignored when running in bare mode.\n",
      "2025-10-27 16:03:37.982 Thread 'MainThread': missing ScriptRunContext! This warning can be ignored when running in bare mode.\n",
      "2025-10-27 16:03:37.985 Thread 'MainThread': missing ScriptRunContext! This warning can be ignored when running in bare mode.\n",
      "2025-10-27 16:03:37.986 Thread 'MainThread': missing ScriptRunContext! This warning can be ignored when running in bare mode.\n",
      "2025-10-27 16:03:37.987 Thread 'MainThread': missing ScriptRunContext! This warning can be ignored when running in bare mode.\n",
      "2025-10-27 16:03:37.988 Thread 'MainThread': missing ScriptRunContext! This warning can be ignored when running in bare mode.\n",
      "2025-10-27 16:03:37.989 Thread 'MainThread': missing ScriptRunContext! This warning can be ignored when running in bare mode.\n",
      "2025-10-27 16:03:37.991 Thread 'MainThread': missing ScriptRunContext! This warning can be ignored when running in bare mode.\n",
      "2025-10-27 16:03:37.992 Thread 'MainThread': missing ScriptRunContext! This warning can be ignored when running in bare mode.\n",
      "2025-10-27 16:03:37.993 Thread 'MainThread': missing ScriptRunContext! This warning can be ignored when running in bare mode.\n"
     ]
    }
   ],
   "source": [
    "# --- Sidebar controls ---\n",
    "st.sidebar.header(\"Settings\")\n",
    "owner = st.sidebar.text_input(\"GitHub Owner\", value=\"wesnoth\")\n",
    "repo = st.sidebar.text_input(\"GitHub Repo\", value=\"wesnoth\")\n",
    "target = st.sidebar.slider(\"Merged PRs to fetch\", min_value=100, max_value=600, value=400, step=50)\n",
    "model_name = st.sidebar.text_input(\"Embedding model\", value=\"sentence-transformers/all-MiniLM-L6-v2\")\n",
    "threshold = st.sidebar.slider(\"Clustering threshold\", min_value=0.70, max_value=0.98, value=0.92, step=0.01)\n",
    "\n",
    "fetch_btn = st.sidebar.button(\"1) Fetch PRs\")\n",
    "embed_btn = st.sidebar.button(\"2) Embed\")\n",
    "cluster_btn = st.sidebar.button(\"3) Cluster & Analyze\")\n"
   ]
  },
  {
   "cell_type": "markdown",
   "id": "5c8899e7",
   "metadata": {},
   "source": [
    "Session state"
   ]
  },
  {
   "cell_type": "code",
   "execution_count": 46,
   "id": "68c47c07",
   "metadata": {},
   "outputs": [
    {
     "name": "stderr",
     "output_type": "stream",
     "text": [
      "2025-10-27 16:03:38.008 Thread 'MainThread': missing ScriptRunContext! This warning can be ignored when running in bare mode.\n",
      "2025-10-27 16:03:38.010 Thread 'MainThread': missing ScriptRunContext! This warning can be ignored when running in bare mode.\n",
      "2025-10-27 16:03:38.012 Thread 'MainThread': missing ScriptRunContext! This warning can be ignored when running in bare mode.\n",
      "2025-10-27 16:03:38.013 Thread 'MainThread': missing ScriptRunContext! This warning can be ignored when running in bare mode.\n",
      "2025-10-27 16:03:38.014 Thread 'MainThread': missing ScriptRunContext! This warning can be ignored when running in bare mode.\n"
     ]
    }
   ],
   "source": [
    "# --- Session state store ---\n",
    "if \"raw_rows\" not in st.session_state: st.session_state.raw_rows = None\n",
    "if \"index_df\" not in st.session_state: st.session_state.index_df = None\n",
    "if \"emb\" not in st.session_state: st.session_state.emb = None\n",
    "if \"cluster_df\" not in st.session_state: st.session_state.cluster_df = None\n",
    "if \"text_blocks\" not in st.session_state: st.session_state.text_blocks = None\n"
   ]
  },
  {
   "cell_type": "markdown",
   "id": "903aa9a9",
   "metadata": {},
   "source": [
    "Button actions (fetch → embed → cluster & analyze)"
   ]
  },
  {
   "cell_type": "code",
   "execution_count": 47,
   "id": "cd5d05aa",
   "metadata": {},
   "outputs": [],
   "source": [
    "if fetch_btn:\n",
    "    if not GITHUB_TOKEN:\n",
    "        st.error(\"Please add `GITHUB_TOKEN` in your Streamlit app secrets.\")\n",
    "    else:\n",
    "        st.info(\"Fetching merged PRs…\")\n",
    "        merged = fetch_merged_prs(owner, repo, target, GITHUB_TOKEN)\n",
    "        numbers = [m[\"number\"] for m in merged]\n",
    "        rows = fetch_pr_details(owner, repo, numbers, GITHUB_TOKEN)\n",
    "        st.session_state.raw_rows = rows\n",
    "        st.success(f\"Fetched {len(rows)} PRs.\")\n",
    "        st.dataframe(pd.DataFrame([{\n",
    "            \"number\": r[\"number\"], \"title\": r[\"title\"], \"labels\": \", \".join(r.get(\"labels\") or []), \"url\": r[\"html_url\"]\n",
    "        } for r in rows]).head(20))\n",
    "\n"
   ]
  },
  {
   "cell_type": "code",
   "execution_count": 48,
   "id": "4fae110b",
   "metadata": {},
   "outputs": [],
   "source": [
    "if embed_btn:\n",
    "    if not st.session_state.raw_rows:\n",
    "        st.warning(\"Fetch PRs first.\")\n",
    "    else:\n",
    "        st.info(\"Embedding PRs…\")\n",
    "        emb, index_df, texts = embed_records(st.session_state.raw_rows, model_name)\n",
    "        st.session_state.emb = emb\n",
    "        st.session_state.index_df = index_df\n",
    "        st.session_state.text_blocks = texts\n",
    "        st.success(f\"Embeddings ready. Shape: {emb.shape}\")\n",
    "        st.dataframe(index_df.head(10))\n",
    "\n"
   ]
  },
  {
   "cell_type": "code",
   "execution_count": 49,
   "id": "0d1c9ab0",
   "metadata": {},
   "outputs": [],
   "source": [
    "if cluster_btn:\n",
    "    if st.session_state.emb is None or st.session_state.index_df is None:\n",
    "        st.warning(\"Run embedding first.\")\n",
    "    else:\n",
    "        st.info(\"Clustering by threshold…\")\n",
    "        cids = cluster_by_threshold(st.session_state.emb, threshold)\n",
    "        out = st.session_state.index_df.copy()\n",
    "        out[\"cluster_id\"] = cids\n",
    "        st.session_state.cluster_df = out\n",
    "        st.success(\"Clustering complete.\")\n",
    "\n",
    "        # Largest clusters\n",
    "        st.subheader(\"Largest clusters\")\n",
    "        sizes = out.groupby(\"cluster_id\")[\"number\"].count().sort_values(ascending=False)\n",
    "        st.write(sizes.head(20))\n",
    "\n",
    "        # Preview keywords\n",
    "        st.subheader(\"Cluster preview (top title tokens)\")\n",
    "        st.dataframe(top_title_tokens(out))\n",
    "\n",
    "        # Labels per cluster\n",
    "        st.subheader(\"Label heatmap rows (top labels per cluster)\")\n",
    "        label_rows = []\n",
    "        grp = out.groupby(\"cluster_id\")\n",
    "        for cid, g in grp:\n",
    "            cnt = Counter()\n",
    "            for labs in g[\"labels\"].fillna(\"\"):\n",
    "                cnt.update(explode_labels(labs))\n",
    "            for lab, n in cnt.most_common(6):\n",
    "                label_rows.append({\"cluster_id\": cid, \"label\": lab, \"count\": n})\n",
    "        label_df = pd.DataFrame(label_rows)\n",
    "        st.dataframe(label_df.head(40))\n",
    "\n",
    "        # Path stats per cluster (uses original JSON)\n",
    "        st.subheader(\"Path stats (top-level directories per cluster)\")\n",
    "        num_to_record = {r[\"number\"]: r for r in st.session_state.raw_rows}\n",
    "        path_df = path_counts_by_cluster(out, num_to_record)\n",
    "        st.dataframe(path_df.head(40))\n"
   ]
  },
  {
   "cell_type": "markdown",
   "id": "25776f96",
   "metadata": {},
   "source": [
    "Similarity search"
   ]
  },
  {
   "cell_type": "code",
   "execution_count": 50,
   "id": "99abdeab",
   "metadata": {},
   "outputs": [
    {
     "name": "stderr",
     "output_type": "stream",
     "text": [
      "2025-10-27 16:03:38.086 Thread 'MainThread': missing ScriptRunContext! This warning can be ignored when running in bare mode.\n",
      "2025-10-27 16:03:38.088 Thread 'MainThread': missing ScriptRunContext! This warning can be ignored when running in bare mode.\n",
      "2025-10-27 16:03:38.089 Thread 'MainThread': missing ScriptRunContext! This warning can be ignored when running in bare mode.\n",
      "2025-10-27 16:03:38.091 Thread 'MainThread': missing ScriptRunContext! This warning can be ignored when running in bare mode.\n",
      "2025-10-27 16:03:38.092 Thread 'MainThread': missing ScriptRunContext! This warning can be ignored when running in bare mode.\n",
      "2025-10-27 16:03:38.093 Thread 'MainThread': missing ScriptRunContext! This warning can be ignored when running in bare mode.\n",
      "2025-10-27 16:03:38.095 Thread 'MainThread': missing ScriptRunContext! This warning can be ignored when running in bare mode.\n",
      "2025-10-27 16:03:38.096 Thread 'MainThread': missing ScriptRunContext! This warning can be ignored when running in bare mode.\n",
      "2025-10-27 16:03:38.097 Thread 'MainThread': missing ScriptRunContext! This warning can be ignored when running in bare mode.\n",
      "2025-10-27 16:03:38.098 Thread 'MainThread': missing ScriptRunContext! This warning can be ignored when running in bare mode.\n",
      "2025-10-27 16:03:38.099 Thread 'MainThread': missing ScriptRunContext! This warning can be ignored when running in bare mode.\n",
      "2025-10-27 16:03:38.100 Thread 'MainThread': missing ScriptRunContext! This warning can be ignored when running in bare mode.\n",
      "2025-10-27 16:03:38.100 Thread 'MainThread': missing ScriptRunContext! This warning can be ignored when running in bare mode.\n",
      "2025-10-27 16:03:38.101 Thread 'MainThread': missing ScriptRunContext! This warning can be ignored when running in bare mode.\n",
      "2025-10-27 16:03:38.102 Thread 'MainThread': missing ScriptRunContext! This warning can be ignored when running in bare mode.\n",
      "2025-10-27 16:03:38.103 Thread 'MainThread': missing ScriptRunContext! This warning can be ignored when running in bare mode.\n",
      "2025-10-27 16:03:38.104 Thread 'MainThread': missing ScriptRunContext! This warning can be ignored when running in bare mode.\n",
      "2025-10-27 16:03:38.105 Thread 'MainThread': missing ScriptRunContext! This warning can be ignored when running in bare mode.\n",
      "2025-10-27 16:03:38.105 Thread 'MainThread': missing ScriptRunContext! This warning can be ignored when running in bare mode.\n",
      "2025-10-27 16:03:38.106 Thread 'MainThread': missing ScriptRunContext! This warning can be ignored when running in bare mode.\n",
      "2025-10-27 16:03:38.107 Thread 'MainThread': missing ScriptRunContext! This warning can be ignored when running in bare mode.\n",
      "2025-10-27 16:03:38.108 Thread 'MainThread': missing ScriptRunContext! This warning can be ignored when running in bare mode.\n"
     ]
    }
   ],
   "source": [
    "# --- Similarity search ---\n",
    "st.header(\"Similarity Search\")\n",
    "query = st.text_area(\"Paste a new issue/PR description\", height=180,\n",
    "                     placeholder=\"e.g., Fix AI pathfinding bug in campaign X …\")\n",
    "topk = st.slider(\"Top K\", 5, 30, 10)\n",
    "\n",
    "if st.button(\"Search similar PRs\"):\n",
    "    if st.session_state.emb is None or st.session_state.index_df is None:\n",
    "        st.warning(\"Please embed (step 2) first.\")\n",
    "    else:\n",
    "        model = load_embed_model(model_name)\n",
    "        qv = model.encode([query], convert_to_numpy=True, normalize_embeddings=True)\n",
    "        sims = cosine_similarity(qv, st.session_state.emb)[0]\n",
    "        order = np.argsort(-sims)[:topk]\n",
    "        res = st.session_state.index_df.iloc[order].copy()\n",
    "        res.insert(1, \"similarity\", sims[order])\n",
    "        st.dataframe(res)\n",
    "        for r in res.itertuples():\n",
    "            st.markdown(f\"**PR #{int(r.number)}** — [{r.title}]({r.url})  \\nSimilarity: `{r.similarity:.3f}`  \\nLabels: `{r.labels}`\")\n"
   ]
  },
  {
   "cell_type": "code",
   "execution_count": null,
   "id": "2b088525",
   "metadata": {},
   "outputs": [],
   "source": []
  },
  {
   "cell_type": "markdown",
   "id": "a51fa651",
   "metadata": {},
   "source": [
    "Fetching and Preparing Pull Request Data from GitHub"
   ]
  },
  {
   "cell_type": "code",
   "execution_count": 51,
   "id": "317ff9f6",
   "metadata": {},
   "outputs": [],
   "source": [
    "OWNER, REPO, TARGET = \"wesnoth\", \"wesnoth\", 400\n",
    "TOKEN = getpass(\"GitHub token: \")\n",
    "API = \"https://api.github.com\"\n",
    "\n",
    "def gh(url, params=None):\n",
    "    h = {\"Authorization\": f\"Bearer {TOKEN}\"} if TOKEN else {}\n",
    "    r = requests.get(url, headers=h, params=params, timeout=60)\n",
    "    if r.status_code==403 and \"rate limit\" in r.text.lower():\n",
    "        reset = int(r.headers.get(\"X-RateLimit-Reset\", time.time()+60))\n",
    "        time.sleep(max(1, reset-int(time.time())+1))\n",
    "        r = requests.get(url, headers=h, params=params, timeout=60)\n",
    "    r.raise_for_status()\n",
    "    return r.json()\n",
    "\n",
    "def fetch_merged_prs(owner, repo, target):\n",
    "    out, page = [], 1\n",
    "    while len(out)<target:\n",
    "        batch = gh(f\"{API}/repos/{owner}/{repo}/pulls\",\n",
    "                   {\"state\":\"closed\",\"per_page\":100,\"page\":page,\"sort\":\"updated\",\"direction\":\"desc\"})\n",
    "        if not batch: break\n",
    "        out += [pr for pr in batch if pr.get(\"merged_at\")]\n",
    "        page += 1\n",
    "        if len(batch)<100: break\n",
    "    return out[:target]\n",
    "\n",
    "def details(owner, repo, num):\n",
    "    files = gh(f\"{API}/repos/{owner}/{repo}/pulls/{num}/files\")\n",
    "    commits = gh(f\"{API}/repos/{owner}/{repo}/pulls/{num}/commits\")\n",
    "    pr = gh(f\"{API}/repos/{owner}/{repo}/pulls/{num}\")\n",
    "    return {\n",
    "        \"number\": pr[\"number\"],\n",
    "        \"title\": pr[\"title\"],\n",
    "        \"labels\": [x[\"name\"] for x in pr.get(\"labels\",[])],\n",
    "        \"body\": pr.get(\"body\"),\n",
    "        \"files\": [{\"filename\": f.get(\"filename\")} for f in files],\n",
    "        \"commits_messages\": [c[\"commit\"][\"message\"] for c in commits],\n",
    "        \"url\": pr[\"html_url\"]\n",
    "    }\n",
    "\n"
   ]
  },
  {
   "cell_type": "code",
   "execution_count": 52,
   "id": "9d021b6a",
   "metadata": {},
   "outputs": [
    {
     "data": {
      "text/html": [
       "<div>\n",
       "<style scoped>\n",
       "    .dataframe tbody tr th:only-of-type {\n",
       "        vertical-align: middle;\n",
       "    }\n",
       "\n",
       "    .dataframe tbody tr th {\n",
       "        vertical-align: top;\n",
       "    }\n",
       "\n",
       "    .dataframe thead th {\n",
       "        text-align: right;\n",
       "    }\n",
       "</style>\n",
       "<table border=\"1\" class=\"dataframe\">\n",
       "  <thead>\n",
       "    <tr style=\"text-align: right;\">\n",
       "      <th></th>\n",
       "      <th>number</th>\n",
       "      <th>title</th>\n",
       "      <th>labels</th>\n",
       "      <th>url</th>\n",
       "    </tr>\n",
       "  </thead>\n",
       "  <tbody>\n",
       "    <tr>\n",
       "      <th>0</th>\n",
       "      <td>10635</td>\n",
       "      <td>Fix shema cumulative= valide for no numerical ...</td>\n",
       "      <td>Unit Tests,Units,Schema,Campaign DiD,Campaign ...</td>\n",
       "      <td>https://github.com/wesnoth/wesnoth/pull/10635</td>\n",
       "    </tr>\n",
       "    <tr>\n",
       "      <th>1</th>\n",
       "      <td>10641</td>\n",
       "      <td>Correct the schema validation disable in the w...</td>\n",
       "      <td>Unit Tests</td>\n",
       "      <td>https://github.com/wesnoth/wesnoth/pull/10641</td>\n",
       "    </tr>\n",
       "    <tr>\n",
       "      <th>2</th>\n",
       "      <td>10633</td>\n",
       "      <td>Sort terrain entries alphabetically.</td>\n",
       "      <td>Help,Terrain</td>\n",
       "      <td>https://github.com/wesnoth/wesnoth/pull/10633</td>\n",
       "    </tr>\n",
       "    <tr>\n",
       "      <th>3</th>\n",
       "      <td>10537</td>\n",
       "      <td>Revert 'Balancing Update' to Dwarvish Miner</td>\n",
       "      <td>Units</td>\n",
       "      <td>https://github.com/wesnoth/wesnoth/pull/10537</td>\n",
       "    </tr>\n",
       "    <tr>\n",
       "      <th>4</th>\n",
       "      <td>10621</td>\n",
       "      <td>GUI2/Story Viewer: title text positioning supp...</td>\n",
       "      <td>UI,Schema</td>\n",
       "      <td>https://github.com/wesnoth/wesnoth/pull/10621</td>\n",
       "    </tr>\n",
       "  </tbody>\n",
       "</table>\n",
       "</div>"
      ],
      "text/plain": [
       "   number                                              title  \\\n",
       "0   10635  Fix shema cumulative= valide for no numerical ...   \n",
       "1   10641  Correct the schema validation disable in the w...   \n",
       "2   10633               Sort terrain entries alphabetically.   \n",
       "3   10537        Revert 'Balancing Update' to Dwarvish Miner   \n",
       "4   10621  GUI2/Story Viewer: title text positioning supp...   \n",
       "\n",
       "                                              labels  \\\n",
       "0  Unit Tests,Units,Schema,Campaign DiD,Campaign ...   \n",
       "1                                         Unit Tests   \n",
       "2                                       Help,Terrain   \n",
       "3                                              Units   \n",
       "4                                          UI,Schema   \n",
       "\n",
       "                                             url  \n",
       "0  https://github.com/wesnoth/wesnoth/pull/10635  \n",
       "1  https://github.com/wesnoth/wesnoth/pull/10641  \n",
       "2  https://github.com/wesnoth/wesnoth/pull/10633  \n",
       "3  https://github.com/wesnoth/wesnoth/pull/10537  \n",
       "4  https://github.com/wesnoth/wesnoth/pull/10621  "
      ]
     },
     "execution_count": 52,
     "metadata": {},
     "output_type": "execute_result"
    }
   ],
   "source": [
    "\n",
    "merged = fetch_merged_prs(OWNER, REPO, TARGET)\n",
    "rows = [details(OWNER, REPO, pr[\"number\"]) for pr in merged]\n",
    "os.makedirs(\"data\", exist_ok=True)\n",
    "json.dump(rows, open(\"data/wesnoth_pr_data.json\",\"w\"), indent=2)\n",
    "idx = pd.DataFrame([{\"number\":r[\"number\"],\"title\":r[\"title\"],\n",
    "                     \"labels\":\",\".join(r[\"labels\"]), \"url\":r[\"url\"]} for r in rows])\n",
    "idx.to_csv(\"data/wesnoth_index.csv\", index=False)\n",
    "idx.head()"
   ]
  },
  {
   "cell_type": "code",
   "execution_count": 53,
   "id": "81bf3ae9",
   "metadata": {},
   "outputs": [],
   "source": [
    "\n",
    "def block(r):\n",
    "    files = \" \".join([f.get(\"filename\",\"\") for f in r.get(\"files\",[])])\n",
    "    cmts = \"\\n\".join(r.get(\"commits_messages\",[]))\n",
    "    return f\"TITLE: {r.get('title','')}\\nBODY: {r.get('body','')}\\nCOMMITS:\\n{cmts}\\nFILES: {files}\"\n",
    "\n",
    "data = json.load(open(\"data/wesnoth_pr_data.json\"))\n",
    "texts = [block(r) for r in data]\n",
    "model = SentenceTransformer(\"sentence-transformers/all-MiniLM-L6-v2\")\n",
    "emb = model.encode(texts, convert_to_numpy=True, normalize_embeddings=True)\n",
    "\n"
   ]
  },
  {
   "cell_type": "markdown",
   "id": "fd5994fa",
   "metadata": {},
   "source": [
    "Threshold Clustering"
   ]
  },
  {
   "cell_type": "code",
   "execution_count": 54,
   "id": "1a12bb8e",
   "metadata": {},
   "outputs": [],
   "source": [
    "def cluster(emb, thr=0.92):\n",
    "    sim = cosine_similarity(emb); np.fill_diagonal(sim,1.0)\n",
    "    n = sim.shape[0]\n",
    "    parent = list(range(n)); rank=[0]*n\n",
    "    def find(x):\n",
    "        if parent[x]!=x: parent[x]=find(parent[x]); return parent[x]\n",
    "        return x\n",
    "    def union(a,b):\n",
    "        ra,rb = find(a),find(b)\n",
    "        if ra==rb: return\n",
    "        if rank[ra]<rank[rb]: parent[ra]=rb\n",
    "        elif rank[ra]>rank[rb]: parent[rb]=ra\n",
    "        else: parent[rb]=ra; rank[ra]+=1\n",
    "    for i in range(n):\n",
    "        js = np.where(sim[i, i+1:]>=thr)[0]+(i+1)\n",
    "        for j in js: union(i,j)\n",
    "    roots = {}\n",
    "    cid = np.full(n, -1)\n",
    "    next_id=0\n",
    "    for i in range(n):\n",
    "        r = find(i)\n",
    "        if r not in roots: roots[r]=next_id; next_id+=1\n",
    "        cid[i]=roots[r]\n",
    "    return cid\n",
    "\n",
    "cids = cluster(emb, 0.92)\n",
    "df = pd.read_csv(\"data/wesnoth_index.csv\")\n",
    "df[\"cluster_id\"] = cids\n"
   ]
  },
  {
   "cell_type": "markdown",
   "id": "f3a59712",
   "metadata": {},
   "source": [
    "Plot cluster sizes"
   ]
  },
  {
   "cell_type": "code",
   "execution_count": 55,
   "id": "2709ec2e",
   "metadata": {},
   "outputs": [
    {
     "data": {
      "image/png": "[encoded data removed]",
      "text/plain": [
       "<Figure size 1000x400 with 1 Axes>"
      ]
     },
     "metadata": {},
     "output_type": "display_data"
    },
    {
     "data": {
      "text/plain": [
       "cluster_id\n",
       "69     2\n",
       "218    2\n",
       "223    2\n",
       "5      1\n",
       "6      1\n",
       "7      1\n",
       "8      1\n",
       "9      1\n",
       "10     1\n",
       "11     1\n",
       "12     1\n",
       "365    1\n",
       "28     1\n",
       "381    1\n",
       "1      1\n",
       "Name: number, dtype: int64"
      ]
     },
     "execution_count": 55,
     "metadata": {},
     "output_type": "execute_result"
    }
   ],
   "source": [
    "sizes = df.groupby(\"cluster_id\")[\"number\"].count().sort_values(ascending=False)\n",
    "plt.figure(figsize=(10,4))\n",
    "plt.bar(sizes.index.astype(str), sizes.values)\n",
    "plt.title(\"Cluster sizes (t=0.92)\"); plt.xlabel(\"cluster_id\"); plt.ylabel(\"count\")\n",
    "plt.show()\n",
    "\n",
    "sizes.head(15)"
   ]
  },
  {
   "cell_type": "code",
   "execution_count": 56,
   "id": "6d8ddfd8",
   "metadata": {},
   "outputs": [
    {
     "data": {
      "text/plain": [
       "cluster_id\n",
       "218    2\n",
       "223    2\n",
       "69     2\n",
       "7      1\n",
       "8      1\n",
       "9      1\n",
       "10     1\n",
       "11     1\n",
       "12     1\n",
       "365    1\n",
       "Name: number, dtype: int64"
      ]
     },
     "execution_count": 56,
     "metadata": {},
     "output_type": "execute_result"
    }
   ],
   "source": [
    "sizes.sort_values(ascending=False).head(10)\n"
   ]
  },
  {
   "cell_type": "code",
   "execution_count": 57,
   "id": "512fd748",
   "metadata": {},
   "outputs": [
    {
     "data": {
      "text/html": [
       "<div>\n",
       "<style scoped>\n",
       "    .dataframe tbody tr th:only-of-type {\n",
       "        vertical-align: middle;\n",
       "    }\n",
       "\n",
       "    .dataframe tbody tr th {\n",
       "        vertical-align: top;\n",
       "    }\n",
       "\n",
       "    .dataframe thead th {\n",
       "        text-align: right;\n",
       "    }\n",
       "</style>\n",
       "<table border=\"1\" class=\"dataframe\">\n",
       "  <thead>\n",
       "    <tr style=\"text-align: right;\">\n",
       "      <th></th>\n",
       "      <th>number</th>\n",
       "      <th>title</th>\n",
       "      <th>labels</th>\n",
       "      <th>url</th>\n",
       "    </tr>\n",
       "  </thead>\n",
       "  <tbody>\n",
       "    <tr>\n",
       "      <th>68</th>\n",
       "      <td>10541</td>\n",
       "      <td>Use the default music playlist for Dark Foreca...</td>\n",
       "      <td>MP</td>\n",
       "      <td>https://github.com/wesnoth/wesnoth/pull/10541</td>\n",
       "    </tr>\n",
       "  </tbody>\n",
       "</table>\n",
       "</div>"
      ],
      "text/plain": [
       "    number                                              title labels  \\\n",
       "68   10541  Use the default music playlist for Dark Foreca...     MP   \n",
       "\n",
       "                                              url  \n",
       "68  https://github.com/wesnoth/wesnoth/pull/10541  "
      ]
     },
     "execution_count": 57,
     "metadata": {},
     "output_type": "execute_result"
    }
   ],
   "source": [
    "df[df[\"cluster_id\"] == 68][[\"number\", \"title\", \"labels\", \"url\"]]\n"
   ]
  },
  {
   "cell_type": "code",
   "execution_count": 58,
   "id": "6f53db3c",
   "metadata": {},
   "outputs": [
    {
     "data": {
      "image/png": "[encoded data removed]",
      "text/plain": [
       "<Figure size 1000x400 with 1 Axes>"
      ]
     },
     "metadata": {},
     "output_type": "display_data"
    }
   ],
   "source": [
    "\n",
    "plt.figure(figsize=(10,4))\n",
    "plt.bar(sizes.index.astype(str), sizes.values)\n",
    "plt.title(\"Cluster sizes (t=0.92)\")\n",
    "plt.xlabel(\"Cluster ID\")\n",
    "plt.ylabel(\"Number of PRs\")\n",
    "plt.show()\n"
   ]
  },
  {
   "cell_type": "code",
   "execution_count": 59,
   "id": "97f73421",
   "metadata": {},
   "outputs": [
    {
     "data": {
      "image/png": "[encoded data removed]",
      "text/plain": [
       "<Figure size 800x400 with 1 Axes>"
      ]
     },
     "metadata": {},
     "output_type": "display_data"
    }
   ],
   "source": [
    "import matplotlib.pyplot as plt\n",
    "\n",
    "top_n = 15\n",
    "top_sizes = sizes.sort_values(ascending=False).head(top_n)\n",
    "\n",
    "plt.figure(figsize=(8, 4))\n",
    "top_sizes.plot(kind='bar')\n",
    "plt.title(f\"Top {top_n} Largest Clusters (t=0.92)\")\n",
    "plt.xlabel(\"Cluster ID\")\n",
    "plt.ylabel(\"Number of PRs\")\n",
    "plt.tight_layout()\n",
    "plt.show()\n"
   ]
  },
  {
   "cell_type": "code",
   "execution_count": 60,
   "id": "a7713758",
   "metadata": {},
   "outputs": [
    {
     "data": {
      "image/png": "[encoded data removed]",
      "text/plain": [
       "<Figure size 600x400 with 1 Axes>"
      ]
     },
     "metadata": {},
     "output_type": "display_data"
    }
   ],
   "source": [
    "plt.figure(figsize=(6, 4))\n",
    "sizes.value_counts().sort_index().plot(kind='bar')\n",
    "plt.title(\"Distribution of Cluster Sizes\")\n",
    "plt.xlabel(\"Cluster Size\")\n",
    "plt.ylabel(\"Number of Clusters\")\n",
    "plt.tight_layout()\n",
    "plt.show()\n"
   ]
  },
  {
   "cell_type": "code",
   "execution_count": 61,
   "id": "c1888c14",
   "metadata": {},
   "outputs": [
    {
     "name": "stdout",
     "output_type": "stream",
     "text": [
      "Total clusters: 397\n",
      "Single-PR clusters: 394\n",
      "Multi-PR clusters: 3\n",
      "Largest cluster size: 2\n"
     ]
    }
   ],
   "source": [
    "print(\"Total clusters:\", len(sizes))\n",
    "print(\"Single-PR clusters:\", (sizes==1).sum())\n",
    "print(\"Multi-PR clusters:\", (sizes>1).sum())\n",
    "print(\"Largest cluster size:\", sizes.max())\n"
   ]
  }
 ],
 "metadata": {
  "kernelspec": {
   "display_name": "Python 3",
   "language": "python",
   "name": "python3"
  },
  "language_info": {
   "codemirror_mode": {
    "name": "ipython",
    "version": 3
   },
   "file_extension": ".py",
   "mimetype": "text/x-python",
   "name": "python",
   "nbconvert_exporter": "python",
   "pygments_lexer": "ipython3",
   "version": "3.11.9"
  }
 },
 "nbformat": 4,
 "nbformat_minor": 5
}
